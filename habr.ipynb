{
  "nbformat": 4,
  "nbformat_minor": 0,
  "metadata": {
    "colab": {
      "name": "habr.ipynb",
      "provenance": [],
      "toc_visible": true,
      "authorship_tag": "ABX9TyPbGl0VC3uXFIwvMhhTpPE/",
      "include_colab_link": true
    },
    "kernelspec": {
      "name": "python3",
      "display_name": "Python 3"
    },
    "language_info": {
      "name": "python"
    }
  },
  "cells": [
    {
      "cell_type": "markdown",
      "metadata": {
        "id": "view-in-github",
        "colab_type": "text"
      },
      "source": [
        "<a href=\"https://colab.research.google.com/github/pedrecho/scrap_news/blob/main/habr.ipynb\" target=\"_parent\"><img src=\"https://colab.research.google.com/assets/colab-badge.svg\" alt=\"Open In Colab\"/></a>"
      ]
    },
    {
      "cell_type": "markdown",
      "source": [
        "Web-scraping\n"
      ],
      "metadata": {
        "id": "wdi9NOgA2lNI"
      }
    },
    {
      "cell_type": "markdown",
      "source": [
        "Импортируем библиотеку, необходимую, чтобы сделать запрос."
      ],
      "metadata": {
        "id": "qTgtPfcm2-jQ"
      }
    },
    {
      "cell_type": "code",
      "execution_count": 273,
      "metadata": {
        "id": "5-X74RATaPBy"
      },
      "outputs": [],
      "source": [
        "import requests"
      ]
    },
    {
      "cell_type": "markdown",
      "source": [
        "Берём ссылку на страницу новостей на сатйе habr.ru.\n",
        "\n",
        "С помощью цикла получаем html с первых пяти странниц сайта.\n",
        "Код 200 означает, что подключение прошло успешно."
      ],
      "metadata": {
        "id": "HthXDu6D3L6Q"
      }
    },
    {
      "cell_type": "code",
      "source": [
        "url = 'https://habr.com/ru/news/page'\n",
        "html = ''\n",
        "for page in range(1, 6):\n",
        "  print(url + str(page))\n",
        "  page = requests.get(url + str(page))\n",
        "  print(page.status_code)\n",
        "  html += page.text"
      ],
      "metadata": {
        "colab": {
          "base_uri": "https://localhost:8080/"
        },
        "id": "dYf0P3I5aqOj",
        "outputId": "3a7a1997-704b-4347-eba2-3c5be31ab3e5"
      },
      "execution_count": 274,
      "outputs": [
        {
          "output_type": "stream",
          "name": "stdout",
          "text": [
            "https://habr.com/ru/news/page1\n",
            "200\n",
            "https://habr.com/ru/news/page2\n",
            "200\n",
            "https://habr.com/ru/news/page3\n",
            "200\n",
            "https://habr.com/ru/news/page4\n",
            "200\n",
            "https://habr.com/ru/news/page5\n",
            "200\n"
          ]
        }
      ]
    },
    {
      "cell_type": "markdown",
      "source": [
        "Добавляем библиотеку, с помощью которой будем искать интересующие нас параметры внутри html."
      ],
      "metadata": {
        "id": "a5c91t2N35xu"
      }
    },
    {
      "cell_type": "code",
      "source": [
        "from bs4 import BeautifulSoup"
      ],
      "metadata": {
        "id": "DP4T6LxZbnYR"
      },
      "execution_count": 275,
      "outputs": []
    },
    {
      "cell_type": "code",
      "source": [
        "soup = BeautifulSoup(html, \"html.parser\")\n",
        "# print(soup)"
      ],
      "metadata": {
        "id": "OynszpuJbzx1"
      },
      "execution_count": 276,
      "outputs": []
    },
    {
      "cell_type": "markdown",
      "source": [
        "Находим все статьи, с полученных ранее страниц. Каждая из этих страниц является новостью, содержащей множество разных параметров.\n",
        "\n",
        "Всего мы нашли 100 новостей."
      ],
      "metadata": {
        "id": "T-c1V-dX4IgV"
      }
    },
    {
      "cell_type": "code",
      "source": [
        "articles = soup.findAll('article')\n",
        "print(len(articles))"
      ],
      "metadata": {
        "colab": {
          "base_uri": "https://localhost:8080/"
        },
        "id": "5KpDQtR_b14B",
        "outputId": "3052ec78-20fe-4832-d593-2e510e43943a"
      },
      "execution_count": 277,
      "outputs": [
        {
          "output_type": "stream",
          "name": "stdout",
          "text": [
            "100\n"
          ]
        }
      ]
    },
    {
      "cell_type": "markdown",
      "source": [
        "Выделим из каждой новости следующие параметры: заголовок, ссылка на статью, время публикации и количество просмотров.\n",
        "Внутри цикла находим и записывем сотвествующие данные в списки."
      ],
      "metadata": {
        "id": "m0KNN4Y44223"
      }
    },
    {
      "cell_type": "code",
      "source": [
        "title = []\n",
        "link = []\n",
        "time = []\n",
        "views = []\n",
        "for item in articles:\n",
        "  title.append(item.div.h2.a.span.text)\n",
        "  link.append('habr.ru' + item.div.h2.a['href'])\n",
        "  time.append(item.div.div.div.findAll('span')[2].time.text.split(' ')[-1])\n",
        "  views.append(item.find('span', title='Количество просмотров').span.text)\n",
        "print(title)\n",
        "print(link)\n",
        "print(time)\n",
        "print(views)"
      ],
      "metadata": {
        "colab": {
          "base_uri": "https://localhost:8080/"
        },
        "id": "-vMh0YM4n4Sb",
        "outputId": "8a18c416-8c36-4985-847e-68ab1a93363a"
      },
      "execution_count": 278,
      "outputs": [
        {
          "output_type": "stream",
          "name": "stdout",
          "text": [
            "['CD Project Red откупилась от инвесторов', 'Опрос: более трети россиян высказались за меры безопасности в интернете', 'Facebook выплатила в России штрафов на 17 млн рублей, приставы закрыли все текущие дела против компании', 'Firefox 95.0.1 исправляет проблемы подключения к сайтам Microsoft', 'Художник закрыл аккаунт DeviantArt — его работы воруют и продают как NFT', 'МВД: глобальный сбой в федеральной информационной системе ГИБДД произошел из-за коммунальной аварии в серверной', 'Обновление руководства по архитектуре приложений', 'Сотрудники Госавтоинспекции Москвы подписываются на аккаунты блогеров, публикующих видео с нарушениями ПДД', 'Эксперты выпустили подробный технический отчет о блокировке Tor в России', 'Сингапурские инженеры сделали умное стекло, подстраивающееся под температурный режим', 'Telegram выплатил в России штрафов на 15 млн рублей, приставы закрыли 6 возбуждённых против компании дел', 'Теоретики считают, что ответ на загадку преобладания материи над антиматерией можно найти в гравитационных волнах', 'МВД подтвердило глобальный сбой в федеральной информационной системе ГИБДД', 'Сервис «Google Диск» будет ограничивать доступ к пользовательским файлам, которые нарушают политику компании', 'Обнаружено нарушение GPL в TikTok Live Studio', 'Microsoft заблокировала обход браузера по умолчанию в Windows 10 и 11', 'Разработчики S.T.A.L.K.E.R. 2 отказались от NFT в игре', 'Корейцы разработали роборуку нового поколения по образу человеческой', 'Apple дает старт собственному производству беспроводных чипов', 'Apple убрала любые упоминания сканирования чужих фото на предмет детской порнографии, но планов не поменяла', '«Индженьюити» совершил полет №18', 'Акционеры Amazon призывают провести независимый аудит условий труда работников компании', 'AMD стала третьим по размеру клиентом TSMC', 'BusKill представила USB-кабель с магнитным креплением для блокировки ПК или удаления данных при его отключении', 'VPN-сервис Lantern решил задействовать децентрализованный инструмент обхода госблокировок в РФ', 'АБД открывает FIT Academy Russia', '«Мемы, структура и практика»: почему курс по Ansible от Слёрма — маст хэв для начинающего DevOps’а', 'Илон Маск рассказал, что Tesla вложит в «Гигафабрику» $10 млрд и откроет 20 тысяч рабочих мест', 'Meta ввела санкции против семи компаний, поставляющих вредоносное ПО', 'Роскомнадзор потребовал от\\xa0YouTube восстановить доступ к\\xa0немецкоязычному каналу RT', 'Открытый семинар «Современные компании и кибербезопасность»', 'Visa с апреля 2022 года введет комиссию за использование сервиса безопасного платежа', 'Билайн запустил локальный сервер G-Core Labs в Южно-Сахалинске', 'Запуск Falcon 9 с новой партией спутников Starlink перенесли на сутки', 'Oracle ведет переговоры о покупке компании Cerner за $30 млрд', 'По США прокатилась волна отмены занятий в школах из-за неподтверждённых угроз из TikTok', 'Ученые разработали метод диагностики рака без ложноположительных результатов', 'Яндекс добавил в карты панорамы с новыми достопримечательностями Москвы', 'Google добавила в Calendar опцию защиты от фишинговых приглашений', 'В «Сапсанах» тестируют сервисы оплаты с использованием биометрии', 'Совет Федерации из-за технической ошибки отклонил закон об онлайн-платформах в школах', 'Энтузиаст добавил три реактивных двигателя к своей Tesla Model S', 'Глава Instagram анонсировал три новые возможности соцсети', 'Крупные российские компании протестировали сервера на отечественных процессорах и пока недовольны их производительностью', 'Kickstarter объяснила, по какому протоколу перейдет на блокчейн', 'Госдума запретит злоупотребляющим переводами денег делать их без визита в банк', 'Китай составил список из 100 тем, по которым нельзя снимать видео для размещения в Интернете', 'Новый квантовый процессор и кутриты', 'Сотовые операторы готовят повышение цен на 6-10% после нового года', 'Новый бесфайловый вредонос скрывается в реестре Windows', 'Мощь интеграции системы инцидент-менеджмента ITSM365 и Zabbix — анонс вебинара', 'Innodisk выпустила 10-гигабитный сетевой адаптер для порта M.2', 'Релиз GNU nano версии 6.0', 'ICL представила моноблок на базе российского процессора «Байкал-М»', 'Центробанк России хочет запретить инвестиции в криптовалюты', 'Apple в 2022 покажет документальный фильм о саундтреках к бондиане', 'Предзаказ на Two Trees TS3 на Kickstarter: доступная установка для лазерной гравировки и резки с поворотной головой', 'Noctua в партнерстве с Drop выпустила кейкапы для клавиатур в своей классической цветовой палитре', 'Hulu назначила дату выхода сериала про главу Theranos Элизабет Холмс', 'Трёх студенток отчислили из СПбГУ из-за программы прокторинга, зафиксировавшей «отвод глаз от монитора» во время теста', 'СМИ: LG разрабатывает для Apple новые дисплеи, один из которых будет с XDR и чипом Apple', 'МКБ в тройке лучших мобильных банков по версии Markswebb', 'Суд отклонил иск «Тинькофф банка» к «Мегафон» на 677 млн рублей', 'В\\xa0центре Гамалеи разрабатывают препарат для подавления коронавируса', 'Новости курса по Apache Kafka от Слёрм', 'Google проиграл телеканалу «Царьград» в апелляционном суде', 'В главном музыкальном чарте Австралии альбом с пением исчезающих птиц обогнал ABBA и The Weeknd', 'Британские инженеры разработали робота, «\\u200eползающего» по стенам', 'TGO обнаружил на экваторе Марса «водяной оазис» размером с Нидерланды', 'В Minecraft построен процессор, на котором можно поиграть в 2D игры', 'Глава СПЧ предложил наказывать миллиардными штрафами за утечку персональных данных', 'Adobe Camera Raw теперь поддерживает RAW-фото, снятые на Pixel 6', 'Суд оштрафовал Twitter на 10 млн рублей и Meta на 13 млн рублей за неудаление запрещенного контента', 'После дефицита микросхем может наступить их переизбыток, считают аналитики', 'CD Projekt заплатит инвесторам $1,85 млн за проблемный запуск Cyberpunk 2077', '«Яндекс» назначил председателя правления «Яндекс Банка»', 'Microsoft повысит цены ещё и на коробочные версии Office для бизнеса и электронные ключи', 'Instagram дала возможность загружать в «Истории» видео до 60 секунд', '«Алмаз-Антей» разработал систему телемедицины для дистанционных медцинских консультаций', 'На Reddit забанили сабреддит со спойлерами фильма «Нет пути домой» из-за жалоб правообладателей', 'Суд отклонил жалобу защиты Ильи Сачкова против продления его ареста до 28 февраля 2022 года', '[Вебинар] Как писать на Хабре на сложные темы', 'Появились первые детали ремейка игры Splinter Cell', 'TikTok тестирует программный пакет TikTok Live Studio для создателей контента', 'Signal увеличил максимальное количество участников аудио- и видеозвонков с пяти до 40', 'Go Digital | 16 декабря 14:40-17:10 онлайн', 'Apple заблокировала геолокацию в своем приложении «Компас» на территории Китая', 'Visa сообщает, что хакеры стали красть банковские данные друг у друга', 'В Москве запустили виртуальную карту «Тройка»', 'Первую запись в «Википедии» продали на аукционе как NFT-токен за $750 тысяч', 'Глава ЦИАН: запрет на сдачу квартир «только славянам» сделает рынок сдачи недвижимости более цивилизованным', 'Reddit подал заявку на IPO', 'Apple выпустила Swift Playgrounds 4 с поддержкой создания приложений прямо на iPad', 'Вышла публичная бета API для GPT-3', '«Пришел, увидел, запилил»: запись митапа по омниканальной платформе Газпромбанка для тех, кто пропустил', '«Яндекс» в тестовом режиме активировал у «Алисы» функцию звонков по номерам из контактов смартфона пользователя', 'Apple бессрочно отложила возвращение в офисы и выдаст сотрудникам по $1000 на покупку оборудования для домашнего офиса', 'В Москве у продавца криптовалюты во время сделки отобрали сумку с $1 млн', 'Российские ученые разработали антибактериальные повязки, ускоряющие регенерацию тканей', 'Honda тестирует систему обнаружения стертой разметки']\n",
            "['habr.ru/ru/news/t/596547/', 'habr.ru/ru/news/t/596531/', 'habr.ru/ru/news/t/596529/', 'habr.ru/ru/news/t/596525/', 'habr.ru/ru/news/t/596523/', 'habr.ru/ru/news/t/596519/', 'habr.ru/ru/news/t/596521/', 'habr.ru/ru/news/t/596509/', 'habr.ru/ru/news/t/596507/', 'habr.ru/ru/news/t/596493/', 'habr.ru/ru/news/t/596489/', 'habr.ru/ru/news/t/596485/', 'habr.ru/ru/news/t/596473/', 'habr.ru/ru/news/t/596471/', 'habr.ru/ru/news/t/596441/', 'habr.ru/ru/news/t/596433/', 'habr.ru/ru/news/t/596431/', 'habr.ru/ru/news/t/596429/', 'habr.ru/ru/news/t/596427/', 'habr.ru/ru/news/t/596425/', 'habr.ru/ru/news/t/596415/', 'habr.ru/ru/news/t/596389/', 'habr.ru/ru/news/t/596375/', 'habr.ru/ru/news/t/596357/', 'habr.ru/ru/news/t/596331/', 'habr.ru/ru/company/rubda/news/t/596329/', 'habr.ru/ru/company/southbridge/news/t/596311/', 'habr.ru/ru/news/t/596305/', 'habr.ru/ru/news/t/596303/', 'habr.ru/ru/news/t/596295/', 'habr.ru/ru/news/t/596291/', 'habr.ru/ru/news/t/596281/', 'habr.ru/ru/company/beeline/news/t/596275/', 'habr.ru/ru/news/t/596277/', 'habr.ru/ru/news/t/596263/', 'habr.ru/ru/news/t/596271/', 'habr.ru/ru/news/t/596267/', 'habr.ru/ru/news/t/596269/', 'habr.ru/ru/news/t/596257/', 'habr.ru/ru/news/t/596253/', 'habr.ru/ru/news/t/596251/', 'habr.ru/ru/news/t/596247/', 'habr.ru/ru/news/t/596245/', 'habr.ru/ru/news/t/596239/', 'habr.ru/ru/news/t/596231/', 'habr.ru/ru/news/t/596225/', 'habr.ru/ru/news/t/596219/', 'habr.ru/ru/company/timeweb/news/t/596217/', 'habr.ru/ru/news/t/596213/', 'habr.ru/ru/company/ruvds/news/t/596203/', 'habr.ru/ru/company/galssoftware/news/t/596201/', 'habr.ru/ru/news/t/596181/', 'habr.ru/ru/news/t/596173/', 'habr.ru/ru/news/t/596163/', 'habr.ru/ru/news/t/596165/', 'habr.ru/ru/news/t/596161/', 'habr.ru/ru/news/t/596147/', 'habr.ru/ru/news/t/596145/', 'habr.ru/ru/news/t/596143/', 'habr.ru/ru/news/t/596137/', 'habr.ru/ru/news/t/596135/', 'habr.ru/ru/company/mkb/news/t/596123/', 'habr.ru/ru/news/t/596125/', 'habr.ru/ru/news/t/596127/', 'habr.ru/ru/company/southbridge/news/t/596121/', 'habr.ru/ru/news/t/596097/', 'habr.ru/ru/news/t/596095/', 'habr.ru/ru/news/t/596089/', 'habr.ru/ru/news/t/596083/', 'habr.ru/ru/company/cloud4y/news/t/596067/', 'habr.ru/ru/news/t/596061/', 'habr.ru/ru/news/t/596059/', 'habr.ru/ru/news/t/596037/', 'habr.ru/ru/news/t/596055/', 'habr.ru/ru/news/t/596053/', 'habr.ru/ru/news/t/596047/', 'habr.ru/ru/news/t/596051/', 'habr.ru/ru/news/t/596049/', 'habr.ru/ru/news/t/596041/', 'habr.ru/ru/news/t/596027/', 'habr.ru/ru/news/t/596025/', 'habr.ru/ru/news/t/596023/', 'habr.ru/ru/news/t/596019/', 'habr.ru/ru/news/t/596013/', 'habr.ru/ru/news/t/596007/', 'habr.ru/ru/company/hpe/news/t/595987/', 'habr.ru/ru/news/t/595979/', 'habr.ru/ru/news/t/595977/', 'habr.ru/ru/news/t/595971/', 'habr.ru/ru/news/t/595967/', 'habr.ru/ru/news/t/595937/', 'habr.ru/ru/news/t/595949/', 'habr.ru/ru/news/t/595943/', 'habr.ru/ru/news/t/595941/', 'habr.ru/ru/company/gazprombank/news/t/595727/', 'habr.ru/ru/news/t/595923/', 'habr.ru/ru/news/t/595917/', 'habr.ru/ru/news/t/595915/', 'habr.ru/ru/news/t/595881/', 'habr.ru/ru/news/t/595879/']\n",
            "['16:51', '14:07', '14:05', '13:12', '12:47', '12:46', '12:43', '10:00', '09:14', '17:30', '17:01', '16:04', '13:36', '13:04', '11:44', '11:00', '10:48', '10:45', '10:32', '10:09', '07:58', '20:23', '18:57', '18:21', '16:33', '16:19', '14:56', '14:41', '14:32', '13:45', '13:42', '13:19', '13:09', '13:08', '13:04', '12:50', '12:45', '12:45', '12:11', '11:59', '11:59', '11:49', '11:47', '11:47', '11:14', '10:44', '10:39', '10:29', '10:26', '10:26', '09:02', '23:20', '21:54', '21:53', '21:20', '21:09', '19:57', '19:52', '19:37', '19:11', '18:49', '18:40', '18:32', '18:28', '18:10', '17:28', '17:27', '17:15', '17:11', '16:33', '15:58', '15:54', '15:50', '15:38', '15:34', '15:21', '15:09', '15:08', '14:43', '14:06', '14:01', '13:55', '13:44', '13:23', '13:04', '12:22', '12:20', '12:02', '11:53', '11:38', '11:05', '11:03', '10:54', '10:47', '10:43', '10:00', '09:13', '08:40', '23:17', '22:47']\n",
            "['296', '1.6K', '419', '1.2K', '3.6K', '1.9K', '264', '4.5K', '9.5K', '3K', '4.9K', '3.4K', '6.8K', '23K', '2.7K', '42K', '3.6K', '1.1K', '1.8K', '774', '1.2K', '1.7K', '3.1K', '5.6K', '13K', '399', '4.1K', '2.9K', '2.7K', '5K', '101', '3.4K', '541', '749', '947', '1.2K', '1.1K', '216', '572', '592', '910', '2.9K', '1.1K', '18K', '746', '16K', '4.1K', '6.2K', '2.5K', '15K', '192', '3.7K', '3.2K', '5.1K', '6.1K', '441', '1.8K', '1.1K', '556', '64K', '1.3K', '486', '2.7K', '844', '208', '2.6K', '328', '906', '10K', '5.8K', '1.2K', '861', '534', '3K', '920', '1.4K', '1.1K', '483', '538', '1.1K', '932', '326', '962', '505', '342', '129', '2.3K', '1.3K', '5.7K', '1.5K', '5.2K', '719', '1.1K', '1.4K', '241', '6.3K', '2K', '18K', '2.2K', '1.4K']\n"
          ]
        }
      ]
    },
    {
      "cell_type": "markdown",
      "source": [
        "Работа с базой данных."
      ],
      "metadata": {
        "id": "MSW2MKW06j8w"
      }
    },
    {
      "cell_type": "markdown",
      "source": [
        "Подключаем pandas, чтобы создать удобную базу данных."
      ],
      "metadata": {
        "id": "6mO1Lhzc5g7O"
      }
    },
    {
      "cell_type": "code",
      "source": [
        "import pandas as pd"
      ],
      "metadata": {
        "id": "td2pe6jLh1zJ"
      },
      "execution_count": 279,
      "outputs": []
    },
    {
      "cell_type": "code",
      "source": [
        "df = pd.DataFrame({'Title': title,\n",
        "                   'Link': link,\n",
        "                   'Time': time,\n",
        "                   'Views': views})\n",
        "df.sample(10)"
      ],
      "metadata": {
        "colab": {
          "base_uri": "https://localhost:8080/",
          "height": 363
        },
        "id": "OVyvKT9YcTV4",
        "outputId": "1816be94-44a2-4de4-f07f-53325cb7f6f7"
      },
      "execution_count": 280,
      "outputs": [
        {
          "output_type": "execute_result",
          "data": {
            "text/html": [
              "\n",
              "  <div id=\"df-43fc7615-c717-41ee-a80e-930fd0a02437\">\n",
              "    <div class=\"colab-df-container\">\n",
              "      <div>\n",
              "<style scoped>\n",
              "    .dataframe tbody tr th:only-of-type {\n",
              "        vertical-align: middle;\n",
              "    }\n",
              "\n",
              "    .dataframe tbody tr th {\n",
              "        vertical-align: top;\n",
              "    }\n",
              "\n",
              "    .dataframe thead th {\n",
              "        text-align: right;\n",
              "    }\n",
              "</style>\n",
              "<table border=\"1\" class=\"dataframe\">\n",
              "  <thead>\n",
              "    <tr style=\"text-align: right;\">\n",
              "      <th></th>\n",
              "      <th>Title</th>\n",
              "      <th>Link</th>\n",
              "      <th>Time</th>\n",
              "      <th>Views</th>\n",
              "    </tr>\n",
              "  </thead>\n",
              "  <tbody>\n",
              "    <tr>\n",
              "      <th>48</th>\n",
              "      <td>Сотовые операторы готовят повышение цен на 6-1...</td>\n",
              "      <td>habr.ru/ru/news/t/596213/</td>\n",
              "      <td>10:26</td>\n",
              "      <td>2.5K</td>\n",
              "    </tr>\n",
              "    <tr>\n",
              "      <th>56</th>\n",
              "      <td>Предзаказ на Two Trees TS3 на Kickstarter: дос...</td>\n",
              "      <td>habr.ru/ru/news/t/596147/</td>\n",
              "      <td>19:57</td>\n",
              "      <td>1.8K</td>\n",
              "    </tr>\n",
              "    <tr>\n",
              "      <th>96</th>\n",
              "      <td>Apple бессрочно отложила возвращение в офисы и...</td>\n",
              "      <td>habr.ru/ru/news/t/595917/</td>\n",
              "      <td>09:13</td>\n",
              "      <td>2K</td>\n",
              "    </tr>\n",
              "    <tr>\n",
              "      <th>35</th>\n",
              "      <td>По США прокатилась волна отмены занятий в школ...</td>\n",
              "      <td>habr.ru/ru/news/t/596271/</td>\n",
              "      <td>12:50</td>\n",
              "      <td>1.2K</td>\n",
              "    </tr>\n",
              "    <tr>\n",
              "      <th>21</th>\n",
              "      <td>Акционеры Amazon призывают провести независимы...</td>\n",
              "      <td>habr.ru/ru/news/t/596389/</td>\n",
              "      <td>20:23</td>\n",
              "      <td>1.7K</td>\n",
              "    </tr>\n",
              "    <tr>\n",
              "      <th>23</th>\n",
              "      <td>BusKill представила USB-кабель с магнитным кре...</td>\n",
              "      <td>habr.ru/ru/news/t/596357/</td>\n",
              "      <td>18:21</td>\n",
              "      <td>5.6K</td>\n",
              "    </tr>\n",
              "    <tr>\n",
              "      <th>44</th>\n",
              "      <td>Kickstarter объяснила, по какому протоколу пер...</td>\n",
              "      <td>habr.ru/ru/news/t/596231/</td>\n",
              "      <td>11:14</td>\n",
              "      <td>746</td>\n",
              "    </tr>\n",
              "    <tr>\n",
              "      <th>42</th>\n",
              "      <td>Глава Instagram анонсировал три новые возможно...</td>\n",
              "      <td>habr.ru/ru/news/t/596245/</td>\n",
              "      <td>11:47</td>\n",
              "      <td>1.1K</td>\n",
              "    </tr>\n",
              "    <tr>\n",
              "      <th>77</th>\n",
              "      <td>Instagram дала возможность загружать в «Истори...</td>\n",
              "      <td>habr.ru/ru/news/t/596049/</td>\n",
              "      <td>15:08</td>\n",
              "      <td>483</td>\n",
              "    </tr>\n",
              "    <tr>\n",
              "      <th>39</th>\n",
              "      <td>В «Сапсанах» тестируют сервисы оплаты с исполь...</td>\n",
              "      <td>habr.ru/ru/news/t/596253/</td>\n",
              "      <td>11:59</td>\n",
              "      <td>592</td>\n",
              "    </tr>\n",
              "  </tbody>\n",
              "</table>\n",
              "</div>\n",
              "      <button class=\"colab-df-convert\" onclick=\"convertToInteractive('df-43fc7615-c717-41ee-a80e-930fd0a02437')\"\n",
              "              title=\"Convert this dataframe to an interactive table.\"\n",
              "              style=\"display:none;\">\n",
              "        \n",
              "  <svg xmlns=\"http://www.w3.org/2000/svg\" height=\"24px\"viewBox=\"0 0 24 24\"\n",
              "       width=\"24px\">\n",
              "    <path d=\"M0 0h24v24H0V0z\" fill=\"none\"/>\n",
              "    <path d=\"M18.56 5.44l.94 2.06.94-2.06 2.06-.94-2.06-.94-.94-2.06-.94 2.06-2.06.94zm-11 1L8.5 8.5l.94-2.06 2.06-.94-2.06-.94L8.5 2.5l-.94 2.06-2.06.94zm10 10l.94 2.06.94-2.06 2.06-.94-2.06-.94-.94-2.06-.94 2.06-2.06.94z\"/><path d=\"M17.41 7.96l-1.37-1.37c-.4-.4-.92-.59-1.43-.59-.52 0-1.04.2-1.43.59L10.3 9.45l-7.72 7.72c-.78.78-.78 2.05 0 2.83L4 21.41c.39.39.9.59 1.41.59.51 0 1.02-.2 1.41-.59l7.78-7.78 2.81-2.81c.8-.78.8-2.07 0-2.86zM5.41 20L4 18.59l7.72-7.72 1.47 1.35L5.41 20z\"/>\n",
              "  </svg>\n",
              "      </button>\n",
              "      \n",
              "  <style>\n",
              "    .colab-df-container {\n",
              "      display:flex;\n",
              "      flex-wrap:wrap;\n",
              "      gap: 12px;\n",
              "    }\n",
              "\n",
              "    .colab-df-convert {\n",
              "      background-color: #E8F0FE;\n",
              "      border: none;\n",
              "      border-radius: 50%;\n",
              "      cursor: pointer;\n",
              "      display: none;\n",
              "      fill: #1967D2;\n",
              "      height: 32px;\n",
              "      padding: 0 0 0 0;\n",
              "      width: 32px;\n",
              "    }\n",
              "\n",
              "    .colab-df-convert:hover {\n",
              "      background-color: #E2EBFA;\n",
              "      box-shadow: 0px 1px 2px rgba(60, 64, 67, 0.3), 0px 1px 3px 1px rgba(60, 64, 67, 0.15);\n",
              "      fill: #174EA6;\n",
              "    }\n",
              "\n",
              "    [theme=dark] .colab-df-convert {\n",
              "      background-color: #3B4455;\n",
              "      fill: #D2E3FC;\n",
              "    }\n",
              "\n",
              "    [theme=dark] .colab-df-convert:hover {\n",
              "      background-color: #434B5C;\n",
              "      box-shadow: 0px 1px 3px 1px rgba(0, 0, 0, 0.15);\n",
              "      filter: drop-shadow(0px 1px 2px rgba(0, 0, 0, 0.3));\n",
              "      fill: #FFFFFF;\n",
              "    }\n",
              "  </style>\n",
              "\n",
              "      <script>\n",
              "        const buttonEl =\n",
              "          document.querySelector('#df-43fc7615-c717-41ee-a80e-930fd0a02437 button.colab-df-convert');\n",
              "        buttonEl.style.display =\n",
              "          google.colab.kernel.accessAllowed ? 'block' : 'none';\n",
              "\n",
              "        async function convertToInteractive(key) {\n",
              "          const element = document.querySelector('#df-43fc7615-c717-41ee-a80e-930fd0a02437');\n",
              "          const dataTable =\n",
              "            await google.colab.kernel.invokeFunction('convertToInteractive',\n",
              "                                                     [key], {});\n",
              "          if (!dataTable) return;\n",
              "\n",
              "          const docLinkHtml = 'Like what you see? Visit the ' +\n",
              "            '<a target=\"_blank\" href=https://colab.research.google.com/notebooks/data_table.ipynb>data table notebook</a>'\n",
              "            + ' to learn more about interactive tables.';\n",
              "          element.innerHTML = '';\n",
              "          dataTable['output_type'] = 'display_data';\n",
              "          await google.colab.output.renderOutput(dataTable, element);\n",
              "          const docLink = document.createElement('div');\n",
              "          docLink.innerHTML = docLinkHtml;\n",
              "          element.appendChild(docLink);\n",
              "        }\n",
              "      </script>\n",
              "    </div>\n",
              "  </div>\n",
              "  "
            ],
            "text/plain": [
              "                                                Title  ... Views\n",
              "48  Сотовые операторы готовят повышение цен на 6-1...  ...  2.5K\n",
              "56  Предзаказ на Two Trees TS3 на Kickstarter: дос...  ...  1.8K\n",
              "96  Apple бессрочно отложила возвращение в офисы и...  ...    2K\n",
              "35  По США прокатилась волна отмены занятий в школ...  ...  1.2K\n",
              "21  Акционеры Amazon призывают провести независимы...  ...  1.7K\n",
              "23  BusKill представила USB-кабель с магнитным кре...  ...  5.6K\n",
              "44  Kickstarter объяснила, по какому протоколу пер...  ...   746\n",
              "42  Глава Instagram анонсировал три новые возможно...  ...  1.1K\n",
              "77  Instagram дала возможность загружать в «Истори...  ...   483\n",
              "39  В «Сапсанах» тестируют сервисы оплаты с исполь...  ...   592\n",
              "\n",
              "[10 rows x 4 columns]"
            ]
          },
          "metadata": {},
          "execution_count": 280
        }
      ]
    },
    {
      "cell_type": "markdown",
      "source": [
        "Создадим дополнительный столбец, содержащий только час публикации новости."
      ],
      "metadata": {
        "id": "Nfe4b0n15qGX"
      }
    },
    {
      "cell_type": "code",
      "source": [
        "hour = []\n",
        "for item in df['Time']:\n",
        "  hour.append(int(item.split(':')[0]))\n",
        "df.loc[:, 'Hour'] = hour"
      ],
      "metadata": {
        "id": "Mcslgt9JvRv8"
      },
      "execution_count": 281,
      "outputs": []
    },
    {
      "cell_type": "code",
      "source": [
        "df.sample(5)"
      ],
      "metadata": {
        "colab": {
          "base_uri": "https://localhost:8080/",
          "height": 206
        },
        "id": "c2n4KyfzvihK",
        "outputId": "0a74bf43-dfe3-4d35-d4ee-eeb39d218326"
      },
      "execution_count": 283,
      "outputs": [
        {
          "output_type": "execute_result",
          "data": {
            "text/html": [
              "\n",
              "  <div id=\"df-ad2c3fa5-012d-4ce0-8d9b-854e6c51d9ee\">\n",
              "    <div class=\"colab-df-container\">\n",
              "      <div>\n",
              "<style scoped>\n",
              "    .dataframe tbody tr th:only-of-type {\n",
              "        vertical-align: middle;\n",
              "    }\n",
              "\n",
              "    .dataframe tbody tr th {\n",
              "        vertical-align: top;\n",
              "    }\n",
              "\n",
              "    .dataframe thead th {\n",
              "        text-align: right;\n",
              "    }\n",
              "</style>\n",
              "<table border=\"1\" class=\"dataframe\">\n",
              "  <thead>\n",
              "    <tr style=\"text-align: right;\">\n",
              "      <th></th>\n",
              "      <th>Title</th>\n",
              "      <th>Link</th>\n",
              "      <th>Time</th>\n",
              "      <th>Views</th>\n",
              "      <th>Hour</th>\n",
              "    </tr>\n",
              "  </thead>\n",
              "  <tbody>\n",
              "    <tr>\n",
              "      <th>63</th>\n",
              "      <td>В центре Гамалеи разрабатывают препарат для по...</td>\n",
              "      <td>habr.ru/ru/news/t/596127/</td>\n",
              "      <td>18:28</td>\n",
              "      <td>844</td>\n",
              "      <td>18</td>\n",
              "    </tr>\n",
              "    <tr>\n",
              "      <th>36</th>\n",
              "      <td>Ученые разработали метод диагностики рака без ...</td>\n",
              "      <td>habr.ru/ru/news/t/596267/</td>\n",
              "      <td>12:45</td>\n",
              "      <td>1.1K</td>\n",
              "      <td>12</td>\n",
              "    </tr>\n",
              "    <tr>\n",
              "      <th>7</th>\n",
              "      <td>Сотрудники Госавтоинспекции Москвы подписывают...</td>\n",
              "      <td>habr.ru/ru/news/t/596509/</td>\n",
              "      <td>10:00</td>\n",
              "      <td>4.5K</td>\n",
              "      <td>10</td>\n",
              "    </tr>\n",
              "    <tr>\n",
              "      <th>82</th>\n",
              "      <td>Появились первые детали ремейка игры Splinter ...</td>\n",
              "      <td>habr.ru/ru/news/t/596019/</td>\n",
              "      <td>13:44</td>\n",
              "      <td>962</td>\n",
              "      <td>13</td>\n",
              "    </tr>\n",
              "    <tr>\n",
              "      <th>8</th>\n",
              "      <td>Эксперты выпустили подробный технический отчет...</td>\n",
              "      <td>habr.ru/ru/news/t/596507/</td>\n",
              "      <td>09:14</td>\n",
              "      <td>9.5K</td>\n",
              "      <td>9</td>\n",
              "    </tr>\n",
              "  </tbody>\n",
              "</table>\n",
              "</div>\n",
              "      <button class=\"colab-df-convert\" onclick=\"convertToInteractive('df-ad2c3fa5-012d-4ce0-8d9b-854e6c51d9ee')\"\n",
              "              title=\"Convert this dataframe to an interactive table.\"\n",
              "              style=\"display:none;\">\n",
              "        \n",
              "  <svg xmlns=\"http://www.w3.org/2000/svg\" height=\"24px\"viewBox=\"0 0 24 24\"\n",
              "       width=\"24px\">\n",
              "    <path d=\"M0 0h24v24H0V0z\" fill=\"none\"/>\n",
              "    <path d=\"M18.56 5.44l.94 2.06.94-2.06 2.06-.94-2.06-.94-.94-2.06-.94 2.06-2.06.94zm-11 1L8.5 8.5l.94-2.06 2.06-.94-2.06-.94L8.5 2.5l-.94 2.06-2.06.94zm10 10l.94 2.06.94-2.06 2.06-.94-2.06-.94-.94-2.06-.94 2.06-2.06.94z\"/><path d=\"M17.41 7.96l-1.37-1.37c-.4-.4-.92-.59-1.43-.59-.52 0-1.04.2-1.43.59L10.3 9.45l-7.72 7.72c-.78.78-.78 2.05 0 2.83L4 21.41c.39.39.9.59 1.41.59.51 0 1.02-.2 1.41-.59l7.78-7.78 2.81-2.81c.8-.78.8-2.07 0-2.86zM5.41 20L4 18.59l7.72-7.72 1.47 1.35L5.41 20z\"/>\n",
              "  </svg>\n",
              "      </button>\n",
              "      \n",
              "  <style>\n",
              "    .colab-df-container {\n",
              "      display:flex;\n",
              "      flex-wrap:wrap;\n",
              "      gap: 12px;\n",
              "    }\n",
              "\n",
              "    .colab-df-convert {\n",
              "      background-color: #E8F0FE;\n",
              "      border: none;\n",
              "      border-radius: 50%;\n",
              "      cursor: pointer;\n",
              "      display: none;\n",
              "      fill: #1967D2;\n",
              "      height: 32px;\n",
              "      padding: 0 0 0 0;\n",
              "      width: 32px;\n",
              "    }\n",
              "\n",
              "    .colab-df-convert:hover {\n",
              "      background-color: #E2EBFA;\n",
              "      box-shadow: 0px 1px 2px rgba(60, 64, 67, 0.3), 0px 1px 3px 1px rgba(60, 64, 67, 0.15);\n",
              "      fill: #174EA6;\n",
              "    }\n",
              "\n",
              "    [theme=dark] .colab-df-convert {\n",
              "      background-color: #3B4455;\n",
              "      fill: #D2E3FC;\n",
              "    }\n",
              "\n",
              "    [theme=dark] .colab-df-convert:hover {\n",
              "      background-color: #434B5C;\n",
              "      box-shadow: 0px 1px 3px 1px rgba(0, 0, 0, 0.15);\n",
              "      filter: drop-shadow(0px 1px 2px rgba(0, 0, 0, 0.3));\n",
              "      fill: #FFFFFF;\n",
              "    }\n",
              "  </style>\n",
              "\n",
              "      <script>\n",
              "        const buttonEl =\n",
              "          document.querySelector('#df-ad2c3fa5-012d-4ce0-8d9b-854e6c51d9ee button.colab-df-convert');\n",
              "        buttonEl.style.display =\n",
              "          google.colab.kernel.accessAllowed ? 'block' : 'none';\n",
              "\n",
              "        async function convertToInteractive(key) {\n",
              "          const element = document.querySelector('#df-ad2c3fa5-012d-4ce0-8d9b-854e6c51d9ee');\n",
              "          const dataTable =\n",
              "            await google.colab.kernel.invokeFunction('convertToInteractive',\n",
              "                                                     [key], {});\n",
              "          if (!dataTable) return;\n",
              "\n",
              "          const docLinkHtml = 'Like what you see? Visit the ' +\n",
              "            '<a target=\"_blank\" href=https://colab.research.google.com/notebooks/data_table.ipynb>data table notebook</a>'\n",
              "            + ' to learn more about interactive tables.';\n",
              "          element.innerHTML = '';\n",
              "          dataTable['output_type'] = 'display_data';\n",
              "          await google.colab.output.renderOutput(dataTable, element);\n",
              "          const docLink = document.createElement('div');\n",
              "          docLink.innerHTML = docLinkHtml;\n",
              "          element.appendChild(docLink);\n",
              "        }\n",
              "      </script>\n",
              "    </div>\n",
              "  </div>\n",
              "  "
            ],
            "text/plain": [
              "                                                Title  ... Hour\n",
              "63  В центре Гамалеи разрабатывают препарат для по...  ...   18\n",
              "36  Ученые разработали метод диагностики рака без ...  ...   12\n",
              "7   Сотрудники Госавтоинспекции Москвы подписывают...  ...   10\n",
              "82  Появились первые детали ремейка игры Splinter ...  ...   13\n",
              "8   Эксперты выпустили подробный технический отчет...  ...    9\n",
              "\n",
              "[5 rows x 5 columns]"
            ]
          },
          "metadata": {},
          "execution_count": 283
        }
      ]
    },
    {
      "cell_type": "markdown",
      "source": [
        "Добавляем библиотеку, чтобы построить график, показывающий, в какое время чаще публикуют новости."
      ],
      "metadata": {
        "id": "fxEqe4mq5_Gn"
      }
    },
    {
      "cell_type": "code",
      "source": [
        "import matplotlib.pyplot as plt"
      ],
      "metadata": {
        "id": "EgLLySeJuow6"
      },
      "execution_count": 266,
      "outputs": []
    },
    {
      "cell_type": "markdown",
      "source": [
        "Проссумируем количество новостей по времени и запишем в переменную plot."
      ],
      "metadata": {
        "id": "_IzC8brY6LW0"
      }
    },
    {
      "cell_type": "code",
      "source": [
        "hour = df['Hour'].value_counts()\n",
        "print(hour)\n",
        "plot = [0] * 24\n",
        "for i in range(len(hour)):\n",
        "  plot[int(hour.index[i])] += hour[i]\n",
        "print(plot)"
      ],
      "metadata": {
        "colab": {
          "base_uri": "https://localhost:8080/"
        },
        "id": "E6v-uHxmvEsI",
        "outputId": "cfd493d4-82bc-4b5a-ff42-649618a230f2"
      },
      "execution_count": 267,
      "outputs": [
        {
          "output_type": "stream",
          "name": "stdout",
          "text": [
            "10    14\n",
            "13    13\n",
            "11    12\n",
            "12    10\n",
            "14     8\n",
            "15     8\n",
            "18     7\n",
            "17     6\n",
            "16     4\n",
            "19     4\n",
            "21     4\n",
            "09     3\n",
            "23     2\n",
            "22     2\n",
            "20     1\n",
            "08     1\n",
            "07     1\n",
            "Name: Hour, dtype: int64\n",
            "[0, 0, 0, 0, 0, 0, 0, 1, 1, 3, 14, 12, 10, 13, 8, 8, 4, 6, 7, 4, 1, 4, 2, 2]\n"
          ]
        }
      ]
    },
    {
      "cell_type": "markdown",
      "source": [
        "Построим график."
      ],
      "metadata": {
        "id": "JHx22DqG6YQT"
      }
    },
    {
      "cell_type": "code",
      "source": [
        "plt.plot(list(range(24)), plot)\n",
        "plt.title('Новости от времени')\n",
        "plt.show()"
      ],
      "metadata": {
        "colab": {
          "base_uri": "https://localhost:8080/",
          "height": 281
        },
        "id": "efdYgBrfvxi1",
        "outputId": "331600db-8b17-4e89-a484-b4bcb38090f8"
      },
      "execution_count": 268,
      "outputs": [
        {
          "output_type": "display_data",
          "data": {
            "image/png": "[encoded data removed]",
            "text/plain": [
              "<Figure size 432x288 with 1 Axes>"
            ]
          },
          "metadata": {
            "needs_background": "light"
          }
        }
      ]
    },
    {
      "cell_type": "markdown",
      "source": [
        "Сохраним DataFrame."
      ],
      "metadata": {
        "id": "FHTNy65x22No"
      }
    },
    {
      "cell_type": "code",
      "source": [
        "df.to_csv(\"habr.csv\", index=False)"
      ],
      "metadata": {
        "id": "3DvAgDIF1Loy"
      },
      "execution_count": 269,
      "outputs": []
    },
    {
      "cell_type": "code",
      "source": [
        ""
      ],
      "metadata": {
        "id": "dB68oOpm2Du2"
      },
      "execution_count": null,
      "outputs": []
    }
  ]
}