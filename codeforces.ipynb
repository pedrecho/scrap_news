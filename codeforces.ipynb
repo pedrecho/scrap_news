{
  "nbformat": 4,
  "nbformat_minor": 0,
  "metadata": {
    "colab": {
      "name": "codeforces.ipynb",
      "provenance": [],
      "collapsed_sections": [],
      "authorship_tag": "ABX9TyPScdN4Qkr97/++9KTs3gFK",
      "include_colab_link": true
    },
    "kernelspec": {
      "name": "python3",
      "display_name": "Python 3"
    },
    "language_info": {
      "name": "python"
    }
  },
  "cells": [
    {
      "cell_type": "markdown",
      "metadata": {
        "id": "view-in-github",
        "colab_type": "text"
      },
      "source": [
        "<a href=\"https://colab.research.google.com/github/pedrecho/scrap_news/blob/main/codeforces.ipynb\" target=\"_parent\"><img src=\"https://colab.research.google.com/assets/colab-badge.svg\" alt=\"Open In Colab\"/></a>"
      ]
    },
    {
      "cell_type": "code",
      "execution_count": null,
      "metadata": {
        "id": "Qmx5_aLqBFby"
      },
      "outputs": [],
      "source": [
        "import requests"
      ]
    },
    {
      "cell_type": "code",
      "source": [
        "link = 'https://codeforces.com/problemset'\n",
        "html = requests.get(link).text"
      ],
      "metadata": {
        "id": "czLorRz0CAe9"
      },
      "execution_count": null,
      "outputs": []
    },
    {
      "cell_type": "code",
      "source": [
        "from bs4 import BeautifulSoup"
      ],
      "metadata": {
        "id": "debAo7xBCE0m"
      },
      "execution_count": null,
      "outputs": []
    },
    {
      "cell_type": "code",
      "source": [
        "soup = BeautifulSoup(html, \"html.parser\")\n",
        "# print(soup)"
      ],
      "metadata": {
        "id": "6kviic1VCUBX"
      },
      "execution_count": null,
      "outputs": []
    },
    {
      "cell_type": "code",
      "source": [
        "tasks = soup.find('table', class_='problems').findAll('tr')\n",
        "print(len(tasks))"
      ],
      "metadata": {
        "colab": {
          "base_uri": "https://localhost:8080/"
        },
        "id": "8ejTs6HzCWBY",
        "outputId": "e16b8d98-0f8a-4f01-91ea-2e61a3249a17"
      },
      "execution_count": null,
      "outputs": [
        {
          "output_type": "stream",
          "name": "stdout",
          "text": [
            "101\n"
          ]
        }
      ]
    },
    {
      "cell_type": "code",
      "source": [
        "import pandas as pd"
      ],
      "metadata": {
        "id": "1T_aZH-vComO"
      },
      "execution_count": null,
      "outputs": []
    },
    {
      "cell_type": "code",
      "source": [
        "i = 0\n",
        "line = []\n",
        "for item in tasks[1:]:\n",
        "  td = item.findAll('td')\n",
        "  line.append([0] * 7)\n",
        "  line[i][0] = td[0].a.text.strip('\\r\\n ')[:4]\n",
        "  line[i][1] = td[0].a.text.strip('\\r\\n ')[4:]\n",
        "  line[i][2] = td[1].div.a.text.strip('\\r\\n ')\n",
        "  line[i][3] = list(map(lambda x: x.text, td[1].findAll('div')[1].findAll('a')))\n",
        "  if td[3].span is None:\n",
        "    line[i][4] = None\n",
        "  else:\n",
        "    line[i][4] = int(td[3].span.text)\n",
        "  line[i][5] = int(td[4].a.text.strip('\\xa0x'))\n",
        "  line[i][6] = td[0].a['href']\n",
        "  print(line[i])\n",
        "  i += 1"
      ],
      "metadata": {
        "colab": {
          "base_uri": "https://localhost:8080/"
        },
        "id": "FforH727J3K-",
        "outputId": "7a8aff75-b44c-4c65-baaf-e5107cfc8dc9"
      },
      "execution_count": null,
      "outputs": [
        {
          "output_type": "stream",
          "name": "stdout",
          "text": [
            "['1620', 'G', 'Subsequences Galore', ['bitmasks', 'combinatorics', 'dp', 'math'], None, 188, '/problemset/problem/1620/G']\n",
            "['1620', 'F', 'Bipartite Array', ['dp'], None, 56, '/problemset/problem/1620/F']\n",
            "['1620', 'E', 'Replace the Numbers', ['data structures', 'dsu', 'trees'], None, 2764, '/problemset/problem/1620/E']\n",
            "['1620', 'D', 'Exact Change', ['brute force', 'constructive algorithms', 'greedy', 'implementation'], None, 1317, '/problemset/problem/1620/D']\n",
            "['1620', 'C', 'BA-String', ['brute force', 'dp', 'greedy', 'implementation', 'math'], None, 2479, '/problemset/problem/1620/C']\n",
            "['1620', 'B', 'Triangles on a Rectangle', ['geometry', 'greedy', 'math'], None, 9573, '/problemset/problem/1620/B']\n",
            "['1620', 'A', 'Equal or Not Equal', ['constructive algorithms', 'implementation'], None, 11642, '/problemset/problem/1620/A']\n",
            "['1618', 'G', 'Trader Problem', ['binary search', 'data structures', 'dsu', 'greedy', 'sortings'], 2200, 530, '/problemset/problem/1618/G']\n",
            "['1618', 'F', 'Reverse', ['bitmasks', 'constructive algorithms', 'dfs and similar', 'implementation', 'math', 'strings'], 2000, 2155, '/problemset/problem/1618/F']\n",
            "['1618', 'E', \"Singers' Tour\", ['constructive algorithms', 'math'], 1700, 3875, '/problemset/problem/1618/E']\n",
            "['1618', 'D', 'Array and Operations', ['dp', 'greedy', 'math'], 1300, 8836, '/problemset/problem/1618/D']\n",
            "['1618', 'C', 'Paint the Array', ['math'], 1100, 11428, '/problemset/problem/1618/C']\n",
            "['1618', 'B', 'Missing Bigram', ['implementation'], 800, 14843, '/problemset/problem/1618/B']\n",
            "['1618', 'A', 'Polycarp and Sums of Subsequences', ['math', 'sortings'], 800, 19344, '/problemset/problem/1618/A']\n",
            "['1617', 'E', 'Christmas Chocolates', ['brute force', 'dfs and similar', 'dp', 'games', 'graphs', 'implementation', 'math', 'number theory', 'shortest paths', 'trees'], None, 317, '/problemset/problem/1617/E']\n",
            "['1617', 'D2', 'Too Many Impostors (hard version)', ['constructive algorithms', 'implementation', 'interactive'], None, 857, '/problemset/problem/1617/D2']\n",
            "['1617', 'D1', 'Too Many Impostors (easy version)', ['constructive algorithms', 'implementation', 'interactive'], None, 2548, '/problemset/problem/1617/D1']\n",
            "['1617', 'C', 'Paprika and Permutation', ['binary search', 'greedy', 'math', 'sortings'], None, 6825, '/problemset/problem/1617/C']\n",
            "['1617', 'B', 'GCD Problem', ['brute force', 'constructive algorithms', 'math', 'number theory'], None, 10455, '/problemset/problem/1617/B']\n",
            "['1617', 'A', 'Forbidden Subsequence', ['constructive algorithms', 'greedy', 'sortings', 'strings'], None, 10801, '/problemset/problem/1617/A']\n",
            "['1614', 'E', 'Divan and a Cottage', ['binary search', 'data structures'], 2600, 465, '/problemset/problem/1614/E']\n",
            "['1614', 'D2', 'Divan and Kostomuksha (hard version)', ['dp', 'number theory'], 2300, 1241, '/problemset/problem/1614/D2']\n",
            "['1614', 'D1', 'Divan and Kostomuksha (easy version)', ['dp', 'number theory'], 2100, 2171, '/problemset/problem/1614/D1']\n",
            "['1614', 'C', 'Divan and bitwise operations', ['bitmasks', 'combinatorics', 'constructive algorithms', 'dp', 'math'], 1500, 5969, '/problemset/problem/1614/C']\n",
            "['1614', 'B', 'Divan and a New Project', ['constructive algorithms', 'sortings'], 1000, 11816, '/problemset/problem/1614/B']\n",
            "['1614', 'A', 'Divan and a Store', ['brute force', 'constructive algorithms', 'greedy'], 800, 17155, '/problemset/problem/1614/A']\n",
            "['1613', 'F', 'Tree Coloring', ['combinatorics', 'divide and conquer', 'fft'], 2600, 347, '/problemset/problem/1613/F']\n",
            "['1613', 'E', 'Crazy Robot', ['dfs and similar', 'graphs'], 2000, 3294, '/problemset/problem/1613/E']\n",
            "['1613', 'D', 'MEX Sequences', ['dp', 'math'], 1900, 2645, '/problemset/problem/1613/D']\n",
            "['1613', 'C', 'Poisoned Dagger', ['binary search'], 1200, 10344, '/problemset/problem/1613/C']\n",
            "['1613', 'B', 'Absent Remainder', ['greedy', 'implementation', 'sortings'], 1000, 12962, '/problemset/problem/1613/B']\n",
            "['1613', 'A', 'Long Comparison', ['implementation', 'math'], 900, 14858, '/problemset/problem/1613/A']\n",
            "['1612', 'G', 'Max Sum Array', ['combinatorics', 'constructive algorithms', 'greedy', 'sortings'], 2500, 384, '/problemset/problem/1612/G']\n",
            "['1612', 'F', 'Armor and Weapons', ['brute force', 'dp', 'greedy', 'shortest paths'], 2800, 301, '/problemset/problem/1612/F']\n",
            "['1612', 'E', 'Messages', ['brute force', 'dp', 'greedy', 'probabilities', 'sortings'], 2000, 1362, '/problemset/problem/1612/E']\n",
            "['1612', 'D', 'X-Magic Pair', ['math', 'number theory'], 1600, 4798, '/problemset/problem/1612/D']\n",
            "['1612', 'C', 'Chat Ban', ['binary search', 'math'], 1300, 8040, '/problemset/problem/1612/C']\n",
            "['1612', 'B', 'Special Permutation', ['constructive algorithms', 'greedy'], 900, 11005, '/problemset/problem/1612/B']\n",
            "['1612', 'A', 'Distance', ['brute force', 'constructive algorithms'], 800, 13101, '/problemset/problem/1612/A']\n",
            "['1611', 'G', 'Robot and Candies', ['data structures', 'graph matchings', 'greedy'], 2500, 320, '/problemset/problem/1611/G']\n",
            "['1611', 'F', 'ATM and Students', ['binary search', 'data structures', 'two pointers'], 1800, 3370, '/problemset/problem/1611/F']\n",
            "['1611', 'E2', 'Escape The Maze (hard version)', ['dfs and similar', 'dp', 'greedy', 'shortest paths', 'trees'], 1900, 1977, '/problemset/problem/1611/E2']\n",
            "['1611', 'E1', 'Escape The Maze (easy version)', ['dfs and similar', 'greedy', 'shortest paths', 'trees', 'two pointers'], 1700, 3739, '/problemset/problem/1611/E1']\n",
            "['1611', 'D', 'Weights Assignment For Tree Edges', ['constructive algorithms', 'trees'], 1500, 5623, '/problemset/problem/1611/D']\n",
            "['1611', 'C', 'Polycarp Recovers the Permutation', ['constructive algorithms'], 1000, 12002, '/problemset/problem/1611/C']\n",
            "['1611', 'B', 'Team Composition: Programmers and Mathematicians', ['binary search', 'constructive algorithms', 'math'], 800, 17050, '/problemset/problem/1611/B']\n",
            "['1611', 'A', 'Make Even', ['constructive algorithms', 'math'], 800, 20232, '/problemset/problem/1611/A']\n",
            "['1610', 'I', 'Mashtali vs AtCoder', ['games', 'trees'], 3100, 133, '/problemset/problem/1610/I']\n",
            "['1610', 'H', 'Squid Game', ['data structures', 'dfs and similar', 'greedy', 'trees'], 3100, 77, '/problemset/problem/1610/H']\n",
            "['1610', 'G', 'AmShZ Wins a Bet', ['data structures', 'greedy', 'hashing'], 3300, 80, '/problemset/problem/1610/G']\n",
            "['1610', 'F', 'Mashtali: a Space Oddysey', ['constructive algorithms', 'dfs and similar', 'graphs'], 3000, 251, '/problemset/problem/1610/F']\n",
            "['1610', 'E', 'AmShZ and G.O.A.T.', ['binary search', 'brute force', 'greedy', 'implementation', 'math'], 2300, 1052, '/problemset/problem/1610/E']\n",
            "['1610', 'D', 'Not Quite Lee', ['combinatorics', 'dp', 'math', 'number theory'], 2000, 1733, '/problemset/problem/1610/D']\n",
            "['1610', 'C', 'Keshi Is Throwing a Party', ['binary search', 'greedy'], 1600, 5479, '/problemset/problem/1610/C']\n",
            "['1610', 'B', 'Kalindrome Array', ['greedy', 'two pointers'], 1100, 9526, '/problemset/problem/1610/B']\n",
            "['1610', 'A', \"Anti Light's Cell Guessing\", ['math'], 900, 11041, '/problemset/problem/1610/A']\n",
            "['1609', 'H', 'Pushing Robots', [], 3500, 43, '/problemset/problem/1609/H']\n",
            "['1609', 'G', 'A Stroll Around the Matrix', ['data structures', 'greedy', 'math'], 3000, 185, '/problemset/problem/1609/G']\n",
            "['1609', 'F', 'Interesting Sections', ['data structures', 'divide and conquer', 'meet-in-the-middle', 'two pointers'], 2800, 359, '/problemset/problem/1609/F']\n",
            "['1609', 'E', 'William The Oblivious', ['bitmasks', 'data structures', 'dp', 'matrices'], 2400, 1123, '/problemset/problem/1609/E']\n",
            "['1609', 'D', 'Social Network', ['dsu', 'graphs', 'greedy', 'implementation', 'trees'], 1600, 3952, '/problemset/problem/1609/D']\n",
            "['1609', 'C', 'Complex Market Analysis', ['binary search', 'dp', 'implementation', 'number theory', 'schedules', 'two pointers'], 1400, 5820, '/problemset/problem/1609/C']\n",
            "['1609', 'B', 'William the Vigilant', ['implementation', 'strings'], 1100, 8270, '/problemset/problem/1609/B']\n",
            "['1609', 'A', 'Divide and Multiply', ['greedy', 'implementation', 'math', 'number theory'], 900, 10429, '/problemset/problem/1609/A']\n",
            "['1608', 'G', 'Alphabetic Tree', ['binary search', 'data structures', 'dfs and similar', 'hashing', 'string suffix structures', 'strings', 'trees'], 3500, 36, '/problemset/problem/1608/G']\n",
            "['1608', 'F', 'MEX counting', ['combinatorics', 'dp', 'implementation'], 3200, 62, '/problemset/problem/1608/F']\n",
            "['1608', 'E', 'The Cells on the Paper', ['binary search', 'implementation', 'sortings'], 2800, 239, '/problemset/problem/1608/E']\n",
            "['1608', 'D', 'Dominoes', ['combinatorics', 'fft', 'graphs', 'math', 'number theory'], 2400, 800, '/problemset/problem/1608/D']\n",
            "['1608', 'C', 'Game Master', ['data structures', 'dfs and similar', 'dp', 'graphs', 'greedy', 'two pointers'], 1700, 3139, '/problemset/problem/1608/C']\n",
            "['1608', 'B', 'Build the Permutation', ['constructive algorithms', 'greedy'], 1200, 6715, '/problemset/problem/1608/B']\n",
            "['1608', 'A', 'Find Array', ['constructive algorithms', 'math'], 800, 12890, '/problemset/problem/1608/A']\n",
            "['1607', 'H', 'Banquet Preparations 2', ['greedy', 'sortings', 'two pointers'], 2200, 791, '/problemset/problem/1607/H']\n",
            "['1607', 'G', 'Banquet Preparations 1', ['greedy'], 2200, 1094, '/problemset/problem/1607/G']\n",
            "['1607', 'F', 'Robot on the Board 2', ['brute force', 'dfs and similar', 'graphs', 'implementation'], 2300, 1397, '/problemset/problem/1607/F']\n",
            "['1607', 'E', 'Robot on the Board 1', ['implementation'], 1600, 6412, '/problemset/problem/1607/E']\n",
            "['1607', 'D', 'Blue-Red Permutation', ['greedy', 'math', 'sortings'], 1300, 10864, '/problemset/problem/1607/D']\n",
            "['1607', 'C', 'Minimum Extraction', ['brute force', 'sortings'], 1000, 16022, '/problemset/problem/1607/C']\n",
            "['1607', 'B', 'Odd Grasshopper', ['math'], 900, 17300, '/problemset/problem/1607/B']\n",
            "['1607', 'A', 'Linear Keyboard', ['implementation', 'strings'], 800, 24662, '/problemset/problem/1607/A']\n",
            "['1606', 'F', 'Tree Queries', ['brute force', 'dp', 'trees'], 2800, 256, '/problemset/problem/1606/F']\n",
            "['1606', 'E', 'Arena', ['combinatorics', 'dp', 'math'], 2100, 2146, '/problemset/problem/1606/E']\n",
            "['1606', 'D', 'Red-Blue Matrix', ['brute force', 'constructive algorithms', 'implementation', 'sortings'], 2400, 1016, '/problemset/problem/1606/D']\n",
            "['1606', 'C', 'Banknotes', ['greedy', 'number theory'], 1400, 8726, '/problemset/problem/1606/C']\n",
            "['1606', 'B', 'Update Files', ['greedy', 'implementation', 'math'], 1100, 12771, '/problemset/problem/1606/B']\n",
            "['1606', 'A', 'AB Balance', ['strings'], 900, 14920, '/problemset/problem/1606/A']\n",
            "['1605', 'F', 'PalindORme', ['combinatorics', 'dp'], 2900, 62, '/problemset/problem/1605/F']\n",
            "['1605', 'E', 'Array Equalizer', ['binary search', 'greedy', 'implementation', 'math', 'number theory', 'sortings', 'two pointers'], 2400, 665, '/problemset/problem/1605/E']\n",
            "['1605', 'D', 'Treelabeling', ['bitmasks', 'constructive algorithms', 'dfs and similar', 'games', 'greedy', 'implementation', 'trees'], 2100, 1973, '/problemset/problem/1605/D']\n",
            "['1605', 'C', 'Dominant Character', ['brute force', 'greedy', 'implementation', 'strings'], 1400, 9596, '/problemset/problem/1605/C']\n",
            "['1605', 'B', 'Reverse Sort', ['greedy', 'sortings'], 1000, 11990, '/problemset/problem/1605/B']\n",
            "['1605', 'A', 'A.M. Deviation', ['math', 'number theory'], 800, 15845, '/problemset/problem/1605/A']\n",
            "['1604', 'B', 'XOR Specia-LIS-t', [], 1100, 11735, '/problemset/problem/1604/B']\n",
            "['1604', 'A', 'Era', ['greedy'], 800, 16222, '/problemset/problem/1604/A']\n",
            "['1603', 'F', 'October 18, 2017', ['combinatorics', 'dp', 'implementation', 'math'], 2700, 83, '/problemset/problem/1603/F']\n",
            "['1603', 'E', 'A Perfect Problem', ['combinatorics', 'dp', 'math'], 3200, 114, '/problemset/problem/1603/E']\n",
            "['1603', 'D', 'Artistic Partition', ['divide and conquer', 'dp', 'number theory'], 3000, 254, '/problemset/problem/1603/D']\n",
            "['1603', 'C', 'Extreme Extension', ['dp', 'greedy', 'math', 'number theory'], 2300, 1346, '/problemset/problem/1603/C']\n",
            "['1603', 'B', 'Moderate Modular Mode', ['constructive algorithms', 'math', 'number theory'], 1600, 8283, '/problemset/problem/1603/B']\n",
            "['1603', 'A', 'Di-visible Confusion', ['constructive algorithms', 'math', 'number theory'], 1300, 10684, '/problemset/problem/1603/A']\n",
            "['1602', 'B', 'Divine Array', ['constructive algorithms', 'implementation'], 1100, 9816, '/problemset/problem/1602/B']\n"
          ]
        }
      ]
    },
    {
      "cell_type": "code",
      "source": [
        "df = pd.DataFrame(line, columns=('Contest', 'Number', 'Name', 'Tags', 'Difficulty', 'Solutions', 'Link'))\n",
        "df.sample(5)"
      ],
      "metadata": {
        "colab": {
          "base_uri": "https://localhost:8080/",
          "height": 206
        },
        "id": "Y9CUonLRKF-b",
        "outputId": "1e4fe178-4c93-4f24-c35c-f7fe1441ae65"
      },
      "execution_count": null,
      "outputs": [
        {
          "output_type": "execute_result",
          "data": {
            "text/html": [
              "\n",
              "  <div id=\"df-d2dff880-983c-4a10-af50-6e12e99ee07c\">\n",
              "    <div class=\"colab-df-container\">\n",
              "      <div>\n",
              "<style scoped>\n",
              "    .dataframe tbody tr th:only-of-type {\n",
              "        vertical-align: middle;\n",
              "    }\n",
              "\n",
              "    .dataframe tbody tr th {\n",
              "        vertical-align: top;\n",
              "    }\n",
              "\n",
              "    .dataframe thead th {\n",
              "        text-align: right;\n",
              "    }\n",
              "</style>\n",
              "<table border=\"1\" class=\"dataframe\">\n",
              "  <thead>\n",
              "    <tr style=\"text-align: right;\">\n",
              "      <th></th>\n",
              "      <th>Contest</th>\n",
              "      <th>Number</th>\n",
              "      <th>Name</th>\n",
              "      <th>Tags</th>\n",
              "      <th>Difficulty</th>\n",
              "      <th>Solutions</th>\n",
              "      <th>Link</th>\n",
              "    </tr>\n",
              "  </thead>\n",
              "  <tbody>\n",
              "    <tr>\n",
              "      <th>93</th>\n",
              "      <td>1603</td>\n",
              "      <td>F</td>\n",
              "      <td>October 18, 2017</td>\n",
              "      <td>[combinatorics, dp, implementation, math]</td>\n",
              "      <td>2700.0</td>\n",
              "      <td>83</td>\n",
              "      <td>/problemset/problem/1603/F</td>\n",
              "    </tr>\n",
              "    <tr>\n",
              "      <th>81</th>\n",
              "      <td>1606</td>\n",
              "      <td>D</td>\n",
              "      <td>Red-Blue Matrix</td>\n",
              "      <td>[brute force, constructive algorithms, impleme...</td>\n",
              "      <td>2400.0</td>\n",
              "      <td>1016</td>\n",
              "      <td>/problemset/problem/1606/D</td>\n",
              "    </tr>\n",
              "    <tr>\n",
              "      <th>64</th>\n",
              "      <td>1608</td>\n",
              "      <td>G</td>\n",
              "      <td>Alphabetic Tree</td>\n",
              "      <td>[binary search, data structures, dfs and simil...</td>\n",
              "      <td>3500.0</td>\n",
              "      <td>36</td>\n",
              "      <td>/problemset/problem/1608/G</td>\n",
              "    </tr>\n",
              "    <tr>\n",
              "      <th>39</th>\n",
              "      <td>1611</td>\n",
              "      <td>G</td>\n",
              "      <td>Robot and Candies</td>\n",
              "      <td>[data structures, graph matchings, greedy]</td>\n",
              "      <td>2500.0</td>\n",
              "      <td>320</td>\n",
              "      <td>/problemset/problem/1611/G</td>\n",
              "    </tr>\n",
              "    <tr>\n",
              "      <th>40</th>\n",
              "      <td>1611</td>\n",
              "      <td>F</td>\n",
              "      <td>ATM and Students</td>\n",
              "      <td>[binary search, data structures, two pointers]</td>\n",
              "      <td>1800.0</td>\n",
              "      <td>3370</td>\n",
              "      <td>/problemset/problem/1611/F</td>\n",
              "    </tr>\n",
              "  </tbody>\n",
              "</table>\n",
              "</div>\n",
              "      <button class=\"colab-df-convert\" onclick=\"convertToInteractive('df-d2dff880-983c-4a10-af50-6e12e99ee07c')\"\n",
              "              title=\"Convert this dataframe to an interactive table.\"\n",
              "              style=\"display:none;\">\n",
              "        \n",
              "  <svg xmlns=\"http://www.w3.org/2000/svg\" height=\"24px\"viewBox=\"0 0 24 24\"\n",
              "       width=\"24px\">\n",
              "    <path d=\"M0 0h24v24H0V0z\" fill=\"none\"/>\n",
              "    <path d=\"M18.56 5.44l.94 2.06.94-2.06 2.06-.94-2.06-.94-.94-2.06-.94 2.06-2.06.94zm-11 1L8.5 8.5l.94-2.06 2.06-.94-2.06-.94L8.5 2.5l-.94 2.06-2.06.94zm10 10l.94 2.06.94-2.06 2.06-.94-2.06-.94-.94-2.06-.94 2.06-2.06.94z\"/><path d=\"M17.41 7.96l-1.37-1.37c-.4-.4-.92-.59-1.43-.59-.52 0-1.04.2-1.43.59L10.3 9.45l-7.72 7.72c-.78.78-.78 2.05 0 2.83L4 21.41c.39.39.9.59 1.41.59.51 0 1.02-.2 1.41-.59l7.78-7.78 2.81-2.81c.8-.78.8-2.07 0-2.86zM5.41 20L4 18.59l7.72-7.72 1.47 1.35L5.41 20z\"/>\n",
              "  </svg>\n",
              "      </button>\n",
              "      \n",
              "  <style>\n",
              "    .colab-df-container {\n",
              "      display:flex;\n",
              "      flex-wrap:wrap;\n",
              "      gap: 12px;\n",
              "    }\n",
              "\n",
              "    .colab-df-convert {\n",
              "      background-color: #E8F0FE;\n",
              "      border: none;\n",
              "      border-radius: 50%;\n",
              "      cursor: pointer;\n",
              "      display: none;\n",
              "      fill: #1967D2;\n",
              "      height: 32px;\n",
              "      padding: 0 0 0 0;\n",
              "      width: 32px;\n",
              "    }\n",
              "\n",
              "    .colab-df-convert:hover {\n",
              "      background-color: #E2EBFA;\n",
              "      box-shadow: 0px 1px 2px rgba(60, 64, 67, 0.3), 0px 1px 3px 1px rgba(60, 64, 67, 0.15);\n",
              "      fill: #174EA6;\n",
              "    }\n",
              "\n",
              "    [theme=dark] .colab-df-convert {\n",
              "      background-color: #3B4455;\n",
              "      fill: #D2E3FC;\n",
              "    }\n",
              "\n",
              "    [theme=dark] .colab-df-convert:hover {\n",
              "      background-color: #434B5C;\n",
              "      box-shadow: 0px 1px 3px 1px rgba(0, 0, 0, 0.15);\n",
              "      filter: drop-shadow(0px 1px 2px rgba(0, 0, 0, 0.3));\n",
              "      fill: #FFFFFF;\n",
              "    }\n",
              "  </style>\n",
              "\n",
              "      <script>\n",
              "        const buttonEl =\n",
              "          document.querySelector('#df-d2dff880-983c-4a10-af50-6e12e99ee07c button.colab-df-convert');\n",
              "        buttonEl.style.display =\n",
              "          google.colab.kernel.accessAllowed ? 'block' : 'none';\n",
              "\n",
              "        async function convertToInteractive(key) {\n",
              "          const element = document.querySelector('#df-d2dff880-983c-4a10-af50-6e12e99ee07c');\n",
              "          const dataTable =\n",
              "            await google.colab.kernel.invokeFunction('convertToInteractive',\n",
              "                                                     [key], {});\n",
              "          if (!dataTable) return;\n",
              "\n",
              "          const docLinkHtml = 'Like what you see? Visit the ' +\n",
              "            '<a target=\"_blank\" href=https://colab.research.google.com/notebooks/data_table.ipynb>data table notebook</a>'\n",
              "            + ' to learn more about interactive tables.';\n",
              "          element.innerHTML = '';\n",
              "          dataTable['output_type'] = 'display_data';\n",
              "          await google.colab.output.renderOutput(dataTable, element);\n",
              "          const docLink = document.createElement('div');\n",
              "          docLink.innerHTML = docLinkHtml;\n",
              "          element.appendChild(docLink);\n",
              "        }\n",
              "      </script>\n",
              "    </div>\n",
              "  </div>\n",
              "  "
            ],
            "text/plain": [
              "   Contest Number  ... Solutions                        Link\n",
              "93    1603      F  ...        83  /problemset/problem/1603/F\n",
              "81    1606      D  ...      1016  /problemset/problem/1606/D\n",
              "64    1608      G  ...        36  /problemset/problem/1608/G\n",
              "39    1611      G  ...       320  /problemset/problem/1611/G\n",
              "40    1611      F  ...      3370  /problemset/problem/1611/F\n",
              "\n",
              "[5 rows x 7 columns]"
            ]
          },
          "metadata": {},
          "execution_count": 157
        }
      ]
    },
    {
      "cell_type": "code",
      "source": [
        "import statistics"
      ],
      "metadata": {
        "id": "OXbDQztOc4zl"
      },
      "execution_count": null,
      "outputs": []
    },
    {
      "cell_type": "code",
      "source": [
        "print('Медианная сложность:', statistics.median(df['Difficulty']))\n",
        "print('Среднее кол-во решений:', statistics.mean(df['Solutions']))"
      ],
      "metadata": {
        "colab": {
          "base_uri": "https://localhost:8080/"
        },
        "id": "FNB18g5Uc6sb",
        "outputId": "208d632c-589a-4f4c-b05c-32376ceebe97"
      },
      "execution_count": null,
      "outputs": [
        {
          "output_type": "stream",
          "name": "stdout",
          "text": [
            "Медианная сложность: 1650.0\n",
            "Среднее кол-во решений: 6078.83\n"
          ]
        }
      ]
    },
    {
      "cell_type": "code",
      "source": [
        "import matplotlib.pyplot as plt"
      ],
      "metadata": {
        "id": "UpXtDYixUQGQ"
      },
      "execution_count": null,
      "outputs": []
    },
    {
      "cell_type": "code",
      "source": [
        "plt.title('Решений от сложности')\n",
        "plt.scatter(df['Difficulty'], df['Solutions'])\n",
        "plt.show()"
      ],
      "metadata": {
        "colab": {
          "base_uri": "https://localhost:8080/",
          "height": 281
        },
        "id": "aHoYdaaYUrS1",
        "outputId": "184c66f4-eb81-4edc-db10-89c00abe69b1"
      },
      "execution_count": null,
      "outputs": [
        {
          "output_type": "display_data",
          "data": {
            "image/png": "[encoded data removed]",
            "text/plain": [
              "<Figure size 432x288 with 1 Axes>"
            ]
          },
          "metadata": {
            "needs_background": "light"
          }
        }
      ]
    },
    {
      "cell_type": "code",
      "source": [
        "hist = df['Contest'].value_counts()"
      ],
      "metadata": {
        "colab": {
          "base_uri": "https://localhost:8080/"
        },
        "id": "7TDqcf6kfgl9",
        "outputId": "9ed201b4-86ee-41d1-dbe3-904da6eb2027"
      },
      "execution_count": null,
      "outputs": [
        {
          "output_type": "stream",
          "name": "stdout",
          "text": [
            "1610    9\n",
            "1607    8\n",
            "1609    8\n",
            "1611    8\n",
            "1608    7\n",
            "1618    7\n",
            "1612    7\n",
            "1620    7\n",
            "1617    6\n",
            "1613    6\n",
            "1605    6\n",
            "1606    6\n",
            "1614    6\n",
            "1603    6\n",
            "1604    2\n",
            "1602    1\n",
            "Name: Contest, dtype: int64\n"
          ]
        }
      ]
    },
    {
      "cell_type": "code",
      "source": [
        "plt.title('Количество заданий в контесте')\n",
        "plt.hist(hist)\n",
        "plt.show()"
      ],
      "metadata": {
        "colab": {
          "base_uri": "https://localhost:8080/",
          "height": 281
        },
        "id": "_tx5Y-FvfWEo",
        "outputId": "baa8174a-6c2f-44ae-e3a4-1d91086f78e7"
      },
      "execution_count": null,
      "outputs": [
        {
          "output_type": "display_data",
          "data": {
            "image/png": "[encoded data removed]",
            "text/plain": [
              "<Figure size 432x288 with 1 Axes>"
            ]
          },
          "metadata": {
            "needs_background": "light"
          }
        }
      ]
    },
    {
      "cell_type": "code",
      "source": [
        "df.to_csv(\"codeforces.csv\", index=False)"
      ],
      "metadata": {
        "id": "cxhSJIDlU934"
      },
      "execution_count": null,
      "outputs": []
    },
    {
      "cell_type": "code",
      "source": [
        ""
      ],
      "metadata": {
        "id": "v1Fr_5ITVi_6"
      },
      "execution_count": null,
      "outputs": []
    }
  ]
}