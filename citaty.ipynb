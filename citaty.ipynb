{
  "nbformat": 4,
  "nbformat_minor": 0,
  "metadata": {
    "colab": {
      "name": "citaty.ipynb",
      "provenance": [],
      "toc_visible": true,
      "collapsed_sections": [],
      "authorship_tag": "ABX9TyPEYJ2aZ6VEjDiumpv2djl7",
      "include_colab_link": true
    },
    "kernelspec": {
      "name": "python3",
      "display_name": "Python 3"
    },
    "language_info": {
      "name": "python"
    }
  },
  "cells": [
    {
      "cell_type": "markdown",
      "metadata": {
        "id": "view-in-github",
        "colab_type": "text"
      },
      "source": [
        "<a href=\"https://colab.research.google.com/github/pedrecho/scrap_news/blob/main/citaty.ipynb\" target=\"_parent\"><img src=\"https://colab.research.google.com/assets/colab-badge.svg\" alt=\"Open In Colab\"/></a>"
      ]
    },
    {
      "cell_type": "code",
      "execution_count": 1,
      "metadata": {
        "id": "UjDQLbX53WA1"
      },
      "outputs": [],
      "source": [
        "import requests"
      ]
    },
    {
      "cell_type": "code",
      "source": [
        "url = 'https://citaty.info/man?page='\n",
        "sites = ''\n",
        "for i in range(5):\n",
        "  sites += requests.get(url + str(i)).text"
      ],
      "metadata": {
        "id": "qdf_CDzW3eCk"
      },
      "execution_count": 80,
      "outputs": []
    },
    {
      "cell_type": "code",
      "source": [
        "from bs4 import BeautifulSoup"
      ],
      "metadata": {
        "id": "2VUA76lW3_tX"
      },
      "execution_count": 81,
      "outputs": []
    },
    {
      "cell_type": "code",
      "source": [
        "soup = BeautifulSoup(sites, \"html.parser\")"
      ],
      "metadata": {
        "id": "d_dzfA9e4gEi"
      },
      "execution_count": 82,
      "outputs": []
    },
    {
      "cell_type": "code",
      "source": [
        "quotes = soup.findAll('article')\n",
        "print(len(quotes))"
      ],
      "metadata": {
        "colab": {
          "base_uri": "https://localhost:8080/"
        },
        "id": "MAhnbcxU4is1",
        "outputId": "e4371d9a-eb05-4bc7-c490-2f95dfe34d87"
      },
      "execution_count": 83,
      "outputs": [
        {
          "output_type": "stream",
          "name": "stdout",
          "text": [
            "80\n"
          ]
        }
      ]
    },
    {
      "cell_type": "code",
      "source": [
        "text = []\n",
        "author = []\n",
        "tags = []\n",
        "rating = []\n",
        "for item in quotes:\n",
        "  text.append(item.div.div.div.div.p.text.replace('\\xa0', ' '))\n",
        "  author.append(item.find('div', class_='field field-name-taxonomy-vocabulary-3 field-type-taxonomy-term-reference field-label-hidden').div.div.a.text)\n",
        "  tg = item.find('div', class_='node__topics')\n",
        "  tags.append([])\n",
        "  if tg is not None:\n",
        "    tg = tg.findAll('div', class_='field-items')\n",
        "    for i in tg:\n",
        "      tags[-1] += list(map(lambda x: x.text, i.findAll('a')))\n",
        "  rating.append(int(item.find('div', class_='rating__value__digits').text.strip('\\n ')))\n"
      ],
      "metadata": {
        "id": "c-IswTyk48I2"
      },
      "execution_count": 84,
      "outputs": []
    },
    {
      "cell_type": "code",
      "source": [
        "import pandas as pd"
      ],
      "metadata": {
        "id": "2Q_SfZHZ5v9-"
      },
      "execution_count": 85,
      "outputs": []
    },
    {
      "cell_type": "code",
      "source": [
        "data = pd.DataFrame({\n",
        "    'Text': text,\n",
        "    'Author': author,\n",
        "    'Tags': tags,\n",
        "    'Rating': rating\n",
        "})\n",
        "data.head()"
      ],
      "metadata": {
        "colab": {
          "base_uri": "https://localhost:8080/",
          "height": 250
        },
        "id": "Of9gTEW_-HQ1",
        "outputId": "5807631d-2e9a-46c4-d268-aeb58c86d966"
      },
      "execution_count": 86,
      "outputs": [
        {
          "output_type": "execute_result",
          "data": {
            "text/html": [
              "\n",
              "  <div id=\"df-8d3e3ffd-47b4-4003-8bf8-ddd3d5408ff7\">\n",
              "    <div class=\"colab-df-container\">\n",
              "      <div>\n",
              "<style scoped>\n",
              "    .dataframe tbody tr th:only-of-type {\n",
              "        vertical-align: middle;\n",
              "    }\n",
              "\n",
              "    .dataframe tbody tr th {\n",
              "        vertical-align: top;\n",
              "    }\n",
              "\n",
              "    .dataframe thead th {\n",
              "        text-align: right;\n",
              "    }\n",
              "</style>\n",
              "<table border=\"1\" class=\"dataframe\">\n",
              "  <thead>\n",
              "    <tr style=\"text-align: right;\">\n",
              "      <th></th>\n",
              "      <th>Text</th>\n",
              "      <th>Author</th>\n",
              "      <th>Tags</th>\n",
              "      <th>Rating</th>\n",
              "    </tr>\n",
              "  </thead>\n",
              "  <tbody>\n",
              "    <tr>\n",
              "      <th>0</th>\n",
              "      <td>Мир полон волшебных вещей, терпеливо ожидающих...</td>\n",
              "      <td>Уильям Батлер Йейтс</td>\n",
              "      <td>[мир, мироздание]</td>\n",
              "      <td>10</td>\n",
              "    </tr>\n",
              "    <tr>\n",
              "      <th>1</th>\n",
              "      <td>Живая жизнь не может быть определена никаким к...</td>\n",
              "      <td>Викентий Викентьевич Вересаев</td>\n",
              "      <td>[мудрые цитаты, жизнь, добро, борьба, смысл жи...</td>\n",
              "      <td>19</td>\n",
              "    </tr>\n",
              "    <tr>\n",
              "      <th>2</th>\n",
              "      <td>У всех у нас есть страхи. Но у тех, кто смотри...</td>\n",
              "      <td>Эрнест Хемингуэй</td>\n",
              "      <td>[цитаты со смыслом, смелость, храбрость, страх]</td>\n",
              "      <td>23</td>\n",
              "    </tr>\n",
              "    <tr>\n",
              "      <th>3</th>\n",
              "      <td>Не тот твой друг, кто за столом с тобою пьёт,\\...</td>\n",
              "      <td>Омар Хайям</td>\n",
              "      <td>[мудрые цитаты, друзья, дружба, верность]</td>\n",
              "      <td>11</td>\n",
              "    </tr>\n",
              "    <tr>\n",
              "      <th>4</th>\n",
              "      <td>​​Самые прекрасные мгновения всегда полны грус...</td>\n",
              "      <td>Андре Моруа</td>\n",
              "      <td>[жизненные цитаты, печаль, мгновение, момент]</td>\n",
              "      <td>14</td>\n",
              "    </tr>\n",
              "  </tbody>\n",
              "</table>\n",
              "</div>\n",
              "      <button class=\"colab-df-convert\" onclick=\"convertToInteractive('df-8d3e3ffd-47b4-4003-8bf8-ddd3d5408ff7')\"\n",
              "              title=\"Convert this dataframe to an interactive table.\"\n",
              "              style=\"display:none;\">\n",
              "        \n",
              "  <svg xmlns=\"http://www.w3.org/2000/svg\" height=\"24px\"viewBox=\"0 0 24 24\"\n",
              "       width=\"24px\">\n",
              "    <path d=\"M0 0h24v24H0V0z\" fill=\"none\"/>\n",
              "    <path d=\"M18.56 5.44l.94 2.06.94-2.06 2.06-.94-2.06-.94-.94-2.06-.94 2.06-2.06.94zm-11 1L8.5 8.5l.94-2.06 2.06-.94-2.06-.94L8.5 2.5l-.94 2.06-2.06.94zm10 10l.94 2.06.94-2.06 2.06-.94-2.06-.94-.94-2.06-.94 2.06-2.06.94z\"/><path d=\"M17.41 7.96l-1.37-1.37c-.4-.4-.92-.59-1.43-.59-.52 0-1.04.2-1.43.59L10.3 9.45l-7.72 7.72c-.78.78-.78 2.05 0 2.83L4 21.41c.39.39.9.59 1.41.59.51 0 1.02-.2 1.41-.59l7.78-7.78 2.81-2.81c.8-.78.8-2.07 0-2.86zM5.41 20L4 18.59l7.72-7.72 1.47 1.35L5.41 20z\"/>\n",
              "  </svg>\n",
              "      </button>\n",
              "      \n",
              "  <style>\n",
              "    .colab-df-container {\n",
              "      display:flex;\n",
              "      flex-wrap:wrap;\n",
              "      gap: 12px;\n",
              "    }\n",
              "\n",
              "    .colab-df-convert {\n",
              "      background-color: #E8F0FE;\n",
              "      border: none;\n",
              "      border-radius: 50%;\n",
              "      cursor: pointer;\n",
              "      display: none;\n",
              "      fill: #1967D2;\n",
              "      height: 32px;\n",
              "      padding: 0 0 0 0;\n",
              "      width: 32px;\n",
              "    }\n",
              "\n",
              "    .colab-df-convert:hover {\n",
              "      background-color: #E2EBFA;\n",
              "      box-shadow: 0px 1px 2px rgba(60, 64, 67, 0.3), 0px 1px 3px 1px rgba(60, 64, 67, 0.15);\n",
              "      fill: #174EA6;\n",
              "    }\n",
              "\n",
              "    [theme=dark] .colab-df-convert {\n",
              "      background-color: #3B4455;\n",
              "      fill: #D2E3FC;\n",
              "    }\n",
              "\n",
              "    [theme=dark] .colab-df-convert:hover {\n",
              "      background-color: #434B5C;\n",
              "      box-shadow: 0px 1px 3px 1px rgba(0, 0, 0, 0.15);\n",
              "      filter: drop-shadow(0px 1px 2px rgba(0, 0, 0, 0.3));\n",
              "      fill: #FFFFFF;\n",
              "    }\n",
              "  </style>\n",
              "\n",
              "      <script>\n",
              "        const buttonEl =\n",
              "          document.querySelector('#df-8d3e3ffd-47b4-4003-8bf8-ddd3d5408ff7 button.colab-df-convert');\n",
              "        buttonEl.style.display =\n",
              "          google.colab.kernel.accessAllowed ? 'block' : 'none';\n",
              "\n",
              "        async function convertToInteractive(key) {\n",
              "          const element = document.querySelector('#df-8d3e3ffd-47b4-4003-8bf8-ddd3d5408ff7');\n",
              "          const dataTable =\n",
              "            await google.colab.kernel.invokeFunction('convertToInteractive',\n",
              "                                                     [key], {});\n",
              "          if (!dataTable) return;\n",
              "\n",
              "          const docLinkHtml = 'Like what you see? Visit the ' +\n",
              "            '<a target=\"_blank\" href=https://colab.research.google.com/notebooks/data_table.ipynb>data table notebook</a>'\n",
              "            + ' to learn more about interactive tables.';\n",
              "          element.innerHTML = '';\n",
              "          dataTable['output_type'] = 'display_data';\n",
              "          await google.colab.output.renderOutput(dataTable, element);\n",
              "          const docLink = document.createElement('div');\n",
              "          docLink.innerHTML = docLinkHtml;\n",
              "          element.appendChild(docLink);\n",
              "        }\n",
              "      </script>\n",
              "    </div>\n",
              "  </div>\n",
              "  "
            ],
            "text/plain": [
              "                                                Text  ... Rating\n",
              "0  Мир полон волшебных вещей, терпеливо ожидающих...  ...     10\n",
              "1  Живая жизнь не может быть определена никаким к...  ...     19\n",
              "2  У всех у нас есть страхи. Но у тех, кто смотри...  ...     23\n",
              "3  Не тот твой друг, кто за столом с тобою пьёт,\\...  ...     11\n",
              "4  ​​Самые прекрасные мгновения всегда полны грус...  ...     14\n",
              "\n",
              "[5 rows x 4 columns]"
            ]
          },
          "metadata": {},
          "execution_count": 86
        }
      ]
    },
    {
      "cell_type": "code",
      "source": [
        "import matplotlib.pyplot as plt\n",
        "import statistics"
      ],
      "metadata": {
        "id": "oa-Anp0h-Uax"
      },
      "execution_count": 87,
      "outputs": []
    },
    {
      "cell_type": "code",
      "source": [
        "print('Средний рейтинг цитат:', statistics.mean(data['Rating']))"
      ],
      "metadata": {
        "colab": {
          "base_uri": "https://localhost:8080/"
        },
        "id": "Ugd-uY5hP65U",
        "outputId": "9acbb6cb-6e5d-4b88-cfd4-4748a36fd8dc"
      },
      "execution_count": 88,
      "outputs": [
        {
          "output_type": "stream",
          "name": "stdout",
          "text": [
            "Средний рейтинг цитат: 13.375\n"
          ]
        }
      ]
    },
    {
      "cell_type": "code",
      "source": [
        "print('Самые популярные авторы цитат:', data['Author'].value_counts().head())"
      ],
      "metadata": {
        "colab": {
          "base_uri": "https://localhost:8080/"
        },
        "id": "vm4VSFRvUwqy",
        "outputId": "38f59f0a-7836-41b5-a8a2-8960c5b860d9"
      },
      "execution_count": 89,
      "outputs": [
        {
          "output_type": "stream",
          "name": "stdout",
          "text": [
            "Самые популярные авторы цитат: Оскар Уайльд                    6\n",
            "Виктор Гюго                     5\n",
            "Альберт Эйнштейн                5\n",
            "Михаил Сафарбекович Гуцериев    4\n",
            "Фёдор Михайлович Достоевский    2\n",
            "Name: Author, dtype: int64\n"
          ]
        }
      ]
    },
    {
      "cell_type": "code",
      "source": [
        "tags = []\n",
        "count = []\n",
        "for items in data['Tags']:\n",
        "  for item  in items:\n",
        "    if item in tags:\n",
        "      count[tags.index(item)] += 1\n",
        "    else:\n",
        "      tags.append(item)\n",
        "      count.append(1)\n",
        "print(len(tags), tags)\n",
        "print(len(count), count)"
      ],
      "metadata": {
        "colab": {
          "base_uri": "https://localhost:8080/"
        },
        "id": "3b_a22gOQr8y",
        "outputId": "b9fe38bf-a81e-45e8-d90d-920a6a3caf92"
      },
      "execution_count": 90,
      "outputs": [
        {
          "output_type": "stream",
          "name": "stdout",
          "text": [
            "148 ['мир, мироздание', 'мудрые цитаты', 'жизнь', 'добро', 'борьба', 'смысл жизни', 'цитаты со смыслом', 'смелость, храбрость', 'страх', 'друзья, дружба', 'верность', 'жизненные цитаты', 'печаль', 'мгновение, момент', 'цитаты на английском с переводом', 'нелепость', 'искания', 'совершенство', 'ум, интеллект', 'сердце', 'слезы', 'утешение', 'логика', 'слова', 'вред', 'улыбка', 'грустные цитаты', 'желания', 'мечта', 'мотивирующие цитаты', 'молодость, юность', 'образование', 'человек, люди', 'существование', 'мать', 'вера', 'религия, церковь', 'спор', 'разочарование', 'счастье', 'мудрость', 'жизненный опыт', 'любовь', 'смерть', 'возраст', 'одиночество', 'величие', 'ад', 'дьявол, сатана', 'красота', 'природа', 'будущее', 'вдохновляющие цитаты', 'уединение', 'везение, удача', 'саморазвитие и самосовершенствование', 'православие', 'Бог', 'истина', 'мужчина и женщина', 'рай', 'государство', 'душа', 'глаза', 'работа', 'искусство', 'жизненная позиция', 'личность', 'собаки', 'преданность', 'враги, вражда', 'завтра', 'история', 'день', 'ироничные цитаты', 'папарацци', 'обыденность', 'ценность', 'безразличие, равнодушие', 'чудеса', 'сострадание', 'терпимость, толерантность', 'цензура', 'зависимость', 'восприятие', 'евреи', 'развитие', 'Родина', 'патриотизм', 'обида', 'прогнозирование', 'управление', 'познавательные цитаты', 'общество', 'зло', 'равновесие', 'нацизм', 'Германия', 'нация', 'немцы', 'слухи, сплетни', 'секреты, тайны', 'молчание', 'предательство', 'ложь, обман', 'самообман', 'позитивные цитаты', 'свобода выбора', 'мировоззрение', 'критика', 'уверенность', 'ошибки', 'новое', 'саркастичные цитаты', 'цитаты про себя', 'самооценка', 'мнение', 'самоуважение', 'самоанализ', 'мы', 'изменения, перемены', 'годы', 'смысл', 'поэзия и поэты', 'бытие', 'самоубийство', 'самоирония', 'депрессия', 'война', 'пропаганда', 'ненависть', 'доброта', 'справедливость', 'простота', 'эгоизм', 'лицемерие', 'бессмертие', 'воскресенье', 'дождь', 'самомнение', 'самоуверенность', 'самодовольство', 'глупость', 'смирение', 'проблемы', 'победа и победители', 'гордость', 'понимание']\n",
            "148 [1, 6, 9, 3, 2, 1, 11, 1, 1, 2, 2, 12, 1, 1, 10, 1, 1, 1, 4, 1, 1, 1, 1, 2, 1, 2, 5, 2, 2, 4, 1, 1, 6, 1, 1, 4, 2, 1, 1, 2, 1, 1, 2, 1, 1, 3, 1, 3, 1, 1, 1, 1, 1, 1, 1, 1, 1, 1, 1, 2, 2, 1, 1, 1, 1, 3, 1, 1, 1, 1, 1, 1, 2, 1, 4, 1, 1, 2, 1, 1, 1, 1, 1, 1, 1, 1, 1, 1, 1, 1, 1, 1, 3, 1, 1, 1, 1, 1, 1, 1, 1, 1, 1, 1, 1, 1, 1, 1, 1, 1, 1, 1, 1, 1, 2, 1, 1, 1, 1, 1, 1, 1, 1, 1, 1, 2, 1, 1, 1, 1, 1, 1, 1, 1, 1, 1, 1, 1, 1, 1, 1, 1, 1, 1, 1, 1, 1, 1]\n"
          ]
        }
      ]
    },
    {
      "cell_type": "code",
      "source": [
        "tags2 = ['другие']\n",
        "count2 = [0]\n",
        "for i in range(len(count)):\n",
        "  if count[i] < 7:\n",
        "    count2[0] += count[i]\n",
        "  else:\n",
        "    tags2.append(tags[i])\n",
        "    count2.append(count[i])\n",
        "print(tags2)\n",
        "print(count2)"
      ],
      "metadata": {
        "colab": {
          "base_uri": "https://localhost:8080/"
        },
        "id": "N73PuWaOSpsB",
        "outputId": "fdba1103-68dc-4ec8-a52d-53484e228d5c"
      },
      "execution_count": 93,
      "outputs": [
        {
          "output_type": "stream",
          "name": "stdout",
          "text": [
            "['другие', 'жизнь', 'цитаты со смыслом', 'жизненные цитаты', 'цитаты на английском с переводом']\n",
            "[196, 9, 11, 12, 10]\n"
          ]
        }
      ]
    },
    {
      "cell_type": "code",
      "source": [
        "plt.title('Теги цитат')\n",
        "plt.pie(count2, labels=tags2)\n",
        "plt.show()"
      ],
      "metadata": {
        "colab": {
          "base_uri": "https://localhost:8080/",
          "height": 264
        },
        "id": "uUpOxX_iTRer",
        "outputId": "78ba1aa7-36d1-45de-b2db-e5e0adec4753"
      },
      "execution_count": 94,
      "outputs": [
        {
          "output_type": "display_data",
          "data": {
            "image/png": "[encoded data removed]",
            "text/plain": [
              "<Figure size 432x288 with 1 Axes>"
            ]
          },
          "metadata": {}
        }
      ]
    },
    {
      "cell_type": "code",
      "source": [
        ""
      ],
      "metadata": {
        "id": "FQYH_4npUM2P"
      },
      "execution_count": 94,
      "outputs": []
    }
  ]
}