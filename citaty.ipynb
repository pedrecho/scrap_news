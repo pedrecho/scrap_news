{
  "nbformat": 4,
  "nbformat_minor": 0,
  "metadata": {
    "colab": {
      "name": "citaty.ipynb",
      "provenance": [],
      "toc_visible": true,
      "collapsed_sections": [],
      "authorship_tag": "ABX9TyOy11oSE+TbyofOrfdYspBz",
      "include_colab_link": true
    },
    "kernelspec": {
      "name": "python3",
      "display_name": "Python 3"
    },
    "language_info": {
      "name": "python"
    }
  },
  "cells": [
    {
      "cell_type": "markdown",
      "metadata": {
        "id": "view-in-github",
        "colab_type": "text"
      },
      "source": [
        "<a href=\"https://colab.research.google.com/github/pedrecho/scrap_news/blob/main/citaty.ipynb\" target=\"_parent\"><img src=\"https://colab.research.google.com/assets/colab-badge.svg\" alt=\"Open In Colab\"/></a>"
      ]
    },
    {
      "cell_type": "code",
      "execution_count": 16,
      "metadata": {
        "id": "UjDQLbX53WA1"
      },
      "outputs": [],
      "source": [
        "import requests"
      ]
    },
    {
      "cell_type": "markdown",
      "source": [
        "Сохранияем html код с перых 3 (можно поменять на большее кол-во при желании) страниц сайта"
      ],
      "metadata": {
        "id": "_Ruzr3ULqmXh"
      }
    },
    {
      "cell_type": "code",
      "source": [
        "url = 'https://citaty.info/man?page='\n",
        "sites = ''\n",
        "for i in range(3):\n",
        "  sites += requests.get(url + str(i)).text"
      ],
      "metadata": {
        "id": "qdf_CDzW3eCk"
      },
      "execution_count": 17,
      "outputs": []
    },
    {
      "cell_type": "code",
      "source": [
        "from bs4 import BeautifulSoup"
      ],
      "metadata": {
        "id": "2VUA76lW3_tX"
      },
      "execution_count": 18,
      "outputs": []
    },
    {
      "cell_type": "code",
      "source": [
        "soup = BeautifulSoup(sites, \"html.parser\")"
      ],
      "metadata": {
        "id": "d_dzfA9e4gEi"
      },
      "execution_count": 19,
      "outputs": []
    },
    {
      "cell_type": "markdown",
      "source": [
        "Выделяем большие компоненты, содержащие всю необходимую статистику по цитатам"
      ],
      "metadata": {
        "id": "Pcz2hE13q0C1"
      }
    },
    {
      "cell_type": "code",
      "source": [
        "quotes = soup.findAll('article')\n",
        "print(len(quotes))"
      ],
      "metadata": {
        "colab": {
          "base_uri": "https://localhost:8080/"
        },
        "id": "MAhnbcxU4is1",
        "outputId": "fa720c16-4a56-4bf3-c005-df2a4213c641"
      },
      "execution_count": 20,
      "outputs": [
        {
          "output_type": "stream",
          "name": "stdout",
          "text": [
            "48\n"
          ]
        }
      ]
    },
    {
      "cell_type": "markdown",
      "source": [
        "После анализа сайта через Код страницы (f12) для каждого выделенного нами параметра (Текст цитаты, её автор, теги и рейтинг) создаём подходящий запрос\n",
        "С тегами отдельная история получилась, там есть обработчик, на случай, если их нет + их может быть несколько"
      ],
      "metadata": {
        "id": "AAoBVh7QrC_S"
      }
    },
    {
      "cell_type": "code",
      "source": [
        "text = []\n",
        "author = []\n",
        "tags = []\n",
        "rating = []\n",
        "for item in quotes:\n",
        "  text.append(item.div.div.div.div.p.text.replace('\\xa0', ' '))\n",
        "  author.append(item.find('div', class_='field field-name-taxonomy-vocabulary-3 field-type-taxonomy-term-reference field-label-hidden').div.div.a.text)\n",
        "  tg = item.find('div', class_='node__topics')\n",
        "  tags.append([])\n",
        "  if tg is not None:\n",
        "    tg = tg.findAll('div', class_='field-items')\n",
        "    for i in tg:\n",
        "      tags[-1] += list(map(lambda x: x.text, i.findAll('a')))\n",
        "  rating.append(int(item.find('div', class_='rating__value__digits').text.strip('\\n ')))\n"
      ],
      "metadata": {
        "id": "c-IswTyk48I2"
      },
      "execution_count": 21,
      "outputs": []
    },
    {
      "cell_type": "code",
      "source": [
        "import pandas as pd"
      ],
      "metadata": {
        "id": "2Q_SfZHZ5v9-"
      },
      "execution_count": 22,
      "outputs": []
    },
    {
      "cell_type": "code",
      "source": [
        "data = pd.DataFrame({\n",
        "    'Text': text,\n",
        "    'Author': author,\n",
        "    'Tags': tags,\n",
        "    'Rating': rating\n",
        "})\n",
        "data.head()"
      ],
      "metadata": {
        "colab": {
          "base_uri": "https://localhost:8080/",
          "height": 250
        },
        "id": "Of9gTEW_-HQ1",
        "outputId": "f91440f4-6e0c-45a0-99d0-ee31fca70da3"
      },
      "execution_count": 23,
      "outputs": [
        {
          "output_type": "execute_result",
          "data": {
            "text/html": [
              "\n",
              "  <div id=\"df-32fd6ce7-90f9-4187-b73f-3477fb011b8b\">\n",
              "    <div class=\"colab-df-container\">\n",
              "      <div>\n",
              "<style scoped>\n",
              "    .dataframe tbody tr th:only-of-type {\n",
              "        vertical-align: middle;\n",
              "    }\n",
              "\n",
              "    .dataframe tbody tr th {\n",
              "        vertical-align: top;\n",
              "    }\n",
              "\n",
              "    .dataframe thead th {\n",
              "        text-align: right;\n",
              "    }\n",
              "</style>\n",
              "<table border=\"1\" class=\"dataframe\">\n",
              "  <thead>\n",
              "    <tr style=\"text-align: right;\">\n",
              "      <th></th>\n",
              "      <th>Text</th>\n",
              "      <th>Author</th>\n",
              "      <th>Tags</th>\n",
              "      <th>Rating</th>\n",
              "    </tr>\n",
              "  </thead>\n",
              "  <tbody>\n",
              "    <tr>\n",
              "      <th>0</th>\n",
              "      <td>Мир полон волшебных вещей, терпеливо ожидающих...</td>\n",
              "      <td>Уильям Батлер Йейтс</td>\n",
              "      <td>[мир, мироздание]</td>\n",
              "      <td>10</td>\n",
              "    </tr>\n",
              "    <tr>\n",
              "      <th>1</th>\n",
              "      <td>Живая жизнь не может быть определена никаким к...</td>\n",
              "      <td>Викентий Викентьевич Вересаев</td>\n",
              "      <td>[мудрые цитаты, жизнь, добро, борьба, смысл жи...</td>\n",
              "      <td>19</td>\n",
              "    </tr>\n",
              "    <tr>\n",
              "      <th>2</th>\n",
              "      <td>У всех у нас есть страхи. Но у тех, кто смотри...</td>\n",
              "      <td>Эрнест Хемингуэй</td>\n",
              "      <td>[цитаты со смыслом, смелость, храбрость, страх]</td>\n",
              "      <td>23</td>\n",
              "    </tr>\n",
              "    <tr>\n",
              "      <th>3</th>\n",
              "      <td>Не тот твой друг, кто за столом с тобою пьёт,\\...</td>\n",
              "      <td>Омар Хайям</td>\n",
              "      <td>[мудрые цитаты, друзья, дружба, верность]</td>\n",
              "      <td>11</td>\n",
              "    </tr>\n",
              "    <tr>\n",
              "      <th>4</th>\n",
              "      <td>​​Самые прекрасные мгновения всегда полны грус...</td>\n",
              "      <td>Андре Моруа</td>\n",
              "      <td>[жизненные цитаты, печаль, мгновение, момент]</td>\n",
              "      <td>14</td>\n",
              "    </tr>\n",
              "  </tbody>\n",
              "</table>\n",
              "</div>\n",
              "      <button class=\"colab-df-convert\" onclick=\"convertToInteractive('df-32fd6ce7-90f9-4187-b73f-3477fb011b8b')\"\n",
              "              title=\"Convert this dataframe to an interactive table.\"\n",
              "              style=\"display:none;\">\n",
              "        \n",
              "  <svg xmlns=\"http://www.w3.org/2000/svg\" height=\"24px\"viewBox=\"0 0 24 24\"\n",
              "       width=\"24px\">\n",
              "    <path d=\"M0 0h24v24H0V0z\" fill=\"none\"/>\n",
              "    <path d=\"M18.56 5.44l.94 2.06.94-2.06 2.06-.94-2.06-.94-.94-2.06-.94 2.06-2.06.94zm-11 1L8.5 8.5l.94-2.06 2.06-.94-2.06-.94L8.5 2.5l-.94 2.06-2.06.94zm10 10l.94 2.06.94-2.06 2.06-.94-2.06-.94-.94-2.06-.94 2.06-2.06.94z\"/><path d=\"M17.41 7.96l-1.37-1.37c-.4-.4-.92-.59-1.43-.59-.52 0-1.04.2-1.43.59L10.3 9.45l-7.72 7.72c-.78.78-.78 2.05 0 2.83L4 21.41c.39.39.9.59 1.41.59.51 0 1.02-.2 1.41-.59l7.78-7.78 2.81-2.81c.8-.78.8-2.07 0-2.86zM5.41 20L4 18.59l7.72-7.72 1.47 1.35L5.41 20z\"/>\n",
              "  </svg>\n",
              "      </button>\n",
              "      \n",
              "  <style>\n",
              "    .colab-df-container {\n",
              "      display:flex;\n",
              "      flex-wrap:wrap;\n",
              "      gap: 12px;\n",
              "    }\n",
              "\n",
              "    .colab-df-convert {\n",
              "      background-color: #E8F0FE;\n",
              "      border: none;\n",
              "      border-radius: 50%;\n",
              "      cursor: pointer;\n",
              "      display: none;\n",
              "      fill: #1967D2;\n",
              "      height: 32px;\n",
              "      padding: 0 0 0 0;\n",
              "      width: 32px;\n",
              "    }\n",
              "\n",
              "    .colab-df-convert:hover {\n",
              "      background-color: #E2EBFA;\n",
              "      box-shadow: 0px 1px 2px rgba(60, 64, 67, 0.3), 0px 1px 3px 1px rgba(60, 64, 67, 0.15);\n",
              "      fill: #174EA6;\n",
              "    }\n",
              "\n",
              "    [theme=dark] .colab-df-convert {\n",
              "      background-color: #3B4455;\n",
              "      fill: #D2E3FC;\n",
              "    }\n",
              "\n",
              "    [theme=dark] .colab-df-convert:hover {\n",
              "      background-color: #434B5C;\n",
              "      box-shadow: 0px 1px 3px 1px rgba(0, 0, 0, 0.15);\n",
              "      filter: drop-shadow(0px 1px 2px rgba(0, 0, 0, 0.3));\n",
              "      fill: #FFFFFF;\n",
              "    }\n",
              "  </style>\n",
              "\n",
              "      <script>\n",
              "        const buttonEl =\n",
              "          document.querySelector('#df-32fd6ce7-90f9-4187-b73f-3477fb011b8b button.colab-df-convert');\n",
              "        buttonEl.style.display =\n",
              "          google.colab.kernel.accessAllowed ? 'block' : 'none';\n",
              "\n",
              "        async function convertToInteractive(key) {\n",
              "          const element = document.querySelector('#df-32fd6ce7-90f9-4187-b73f-3477fb011b8b');\n",
              "          const dataTable =\n",
              "            await google.colab.kernel.invokeFunction('convertToInteractive',\n",
              "                                                     [key], {});\n",
              "          if (!dataTable) return;\n",
              "\n",
              "          const docLinkHtml = 'Like what you see? Visit the ' +\n",
              "            '<a target=\"_blank\" href=https://colab.research.google.com/notebooks/data_table.ipynb>data table notebook</a>'\n",
              "            + ' to learn more about interactive tables.';\n",
              "          element.innerHTML = '';\n",
              "          dataTable['output_type'] = 'display_data';\n",
              "          await google.colab.output.renderOutput(dataTable, element);\n",
              "          const docLink = document.createElement('div');\n",
              "          docLink.innerHTML = docLinkHtml;\n",
              "          element.appendChild(docLink);\n",
              "        }\n",
              "      </script>\n",
              "    </div>\n",
              "  </div>\n",
              "  "
            ],
            "text/plain": [
              "                                                Text  ... Rating\n",
              "0  Мир полон волшебных вещей, терпеливо ожидающих...  ...     10\n",
              "1  Живая жизнь не может быть определена никаким к...  ...     19\n",
              "2  У всех у нас есть страхи. Но у тех, кто смотри...  ...     23\n",
              "3  Не тот твой друг, кто за столом с тобою пьёт,\\...  ...     11\n",
              "4  ​​Самые прекрасные мгновения всегда полны грус...  ...     14\n",
              "\n",
              "[5 rows x 4 columns]"
            ]
          },
          "metadata": {},
          "execution_count": 23
        }
      ]
    },
    {
      "cell_type": "code",
      "source": [
        "import matplotlib.pyplot as plt\n",
        "import statistics"
      ],
      "metadata": {
        "id": "oa-Anp0h-Uax"
      },
      "execution_count": 24,
      "outputs": []
    },
    {
      "cell_type": "code",
      "source": [
        "print('Средний рейтинг цитат:', statistics.mean(data['Rating']))"
      ],
      "metadata": {
        "colab": {
          "base_uri": "https://localhost:8080/"
        },
        "id": "Ugd-uY5hP65U",
        "outputId": "37fbb006-3874-4d13-97fe-9d63601d999d"
      },
      "execution_count": 25,
      "outputs": [
        {
          "output_type": "stream",
          "name": "stdout",
          "text": [
            "Средний рейтинг цитат: 13.875\n"
          ]
        }
      ]
    },
    {
      "cell_type": "code",
      "source": [
        "print('Самые популярные авторы цитат:')\n",
        "print(data['Author'].value_counts().head())"
      ],
      "metadata": {
        "colab": {
          "base_uri": "https://localhost:8080/"
        },
        "id": "vm4VSFRvUwqy",
        "outputId": "0ab9b92b-0115-4790-cd0b-1dd05f5a5f01"
      },
      "execution_count": 34,
      "outputs": [
        {
          "output_type": "stream",
          "name": "stdout",
          "text": [
            "Самые популярные авторы цитат:\n",
            "Оскар Уайльд                    5\n",
            "Альберт Эйнштейн                4\n",
            "Михаил Сафарбекович Гуцериев    4\n",
            "Виктор Гюго                     2\n",
            "Фёдор Михайлович Достоевский    2\n",
            "Name: Author, dtype: int64\n"
          ]
        }
      ]
    },
    {
      "cell_type": "markdown",
      "source": [
        "Считаем количество встретившихся тего и сколько раз они встретились"
      ],
      "metadata": {
        "id": "bF5yaTMasNlA"
      }
    },
    {
      "cell_type": "code",
      "source": [
        "tags = []\n",
        "count = []\n",
        "for items in data['Tags']:\n",
        "  for item  in items:\n",
        "    if item in tags:\n",
        "      count[tags.index(item)] += 1\n",
        "    else:\n",
        "      tags.append(item)\n",
        "      count.append(1)\n",
        "print(len(tags), tags)\n",
        "print(len(count), count)"
      ],
      "metadata": {
        "colab": {
          "base_uri": "https://localhost:8080/"
        },
        "id": "3b_a22gOQr8y",
        "outputId": "74f0f300-47f0-4de8-b3d4-bdc682df1b32"
      },
      "execution_count": 28,
      "outputs": [
        {
          "output_type": "stream",
          "name": "stdout",
          "text": [
            "87 ['мир, мироздание', 'мудрые цитаты', 'жизнь', 'добро', 'борьба', 'смысл жизни', 'цитаты со смыслом', 'смелость, храбрость', 'страх', 'друзья, дружба', 'верность', 'жизненные цитаты', 'печаль', 'мгновение, момент', 'цитаты на английском с переводом', 'нелепость', 'искания', 'совершенство', 'ум, интеллект', 'сердце', 'слезы', 'утешение', 'логика', 'слова', 'вред', 'улыбка', 'грустные цитаты', 'желания', 'мечта', 'мотивирующие цитаты', 'молодость, юность', 'образование', 'человек, люди', 'существование', 'мать', 'вера', 'религия, церковь', 'спор', 'разочарование', 'счастье', 'мудрость', 'жизненный опыт', 'любовь', 'смерть', 'возраст', 'одиночество', 'величие', 'ад', 'дьявол, сатана', 'красота', 'природа', 'будущее', 'вдохновляющие цитаты', 'уединение', 'везение, удача', 'саморазвитие и самосовершенствование', 'православие', 'Бог', 'истина', 'мужчина и женщина', 'рай', 'государство', 'душа', 'глаза', 'работа', 'искусство', 'жизненная позиция', 'личность', 'собаки', 'преданность', 'враги, вражда', 'завтра', 'история', 'день', 'ироничные цитаты', 'папарацци', 'обыденность', 'ценность', 'безразличие, равнодушие', 'чудеса', 'сострадание', 'терпимость, толерантность', 'цензура', 'зависимость', 'восприятие', 'евреи', 'развитие']\n",
            "87 [1, 6, 6, 1, 2, 1, 8, 1, 1, 2, 2, 10, 1, 1, 7, 1, 1, 1, 4, 1, 1, 1, 1, 2, 1, 2, 4, 2, 2, 2, 1, 1, 2, 1, 1, 3, 1, 1, 1, 1, 1, 1, 2, 1, 1, 2, 1, 2, 1, 1, 1, 1, 1, 1, 1, 1, 1, 1, 1, 2, 1, 1, 1, 1, 1, 2, 1, 1, 1, 1, 1, 1, 2, 1, 1, 1, 1, 1, 1, 1, 1, 1, 1, 1, 1, 1, 1]\n"
          ]
        }
      ]
    },
    {
      "cell_type": "markdown",
      "source": [
        "Теги, которые встречаются меньше 3 (тоже можете выставить по своему желанию, если будете увеличивать кол-во счиитываемых страниц, то точно надо будет поменять) раз, переносим в раздел остальные"
      ],
      "metadata": {
        "id": "kK6gMfMWsZME"
      }
    },
    {
      "cell_type": "code",
      "source": [
        "tags2 = ['другие']\n",
        "count2 = [0]\n",
        "for i in range(len(count)):\n",
        "  if count[i] < 3:\n",
        "    count2[0] += count[i]\n",
        "  else:\n",
        "    tags2.append(tags[i])\n",
        "    count2.append(count[i])\n",
        "print(tags2)\n",
        "print(count2)"
      ],
      "metadata": {
        "colab": {
          "base_uri": "https://localhost:8080/"
        },
        "id": "N73PuWaOSpsB",
        "outputId": "96cf1480-2af2-4ddb-e227-6b6e8bf8c08e"
      },
      "execution_count": 29,
      "outputs": [
        {
          "output_type": "stream",
          "name": "stdout",
          "text": [
            "['другие', 'мудрые цитаты', 'жизнь', 'цитаты со смыслом', 'жизненные цитаты', 'цитаты на английском с переводом', 'ум, интеллект', 'грустные цитаты', 'вера']\n",
            "[94, 6, 6, 8, 10, 7, 4, 4, 3]\n"
          ]
        }
      ]
    },
    {
      "cell_type": "code",
      "source": [
        "plt.title('Теги цитат')\n",
        "plt.pie(count2, labels=tags2)\n",
        "plt.show()"
      ],
      "metadata": {
        "colab": {
          "base_uri": "https://localhost:8080/",
          "height": 264
        },
        "id": "uUpOxX_iTRer",
        "outputId": "e4ea5ab5-76ea-4b03-c23c-63be2049c954"
      },
      "execution_count": 30,
      "outputs": [
        {
          "output_type": "display_data",
          "data": {
            "image/png": "[encoded data removed]",
            "text/plain": [
              "<Figure size 432x288 with 1 Axes>"
            ]
          },
          "metadata": {}
        }
      ]
    },
    {
      "cell_type": "code",
      "source": [
        ""
      ],
      "metadata": {
        "id": "FQYH_4npUM2P"
      },
      "execution_count": null,
      "outputs": []
    }
  ]
}